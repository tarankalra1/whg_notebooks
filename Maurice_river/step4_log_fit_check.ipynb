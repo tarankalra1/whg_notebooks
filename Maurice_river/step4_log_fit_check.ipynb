{
 "cells": [
  {
   "cell_type": "code",
   "execution_count": 1,
   "metadata": {},
   "outputs": [
    {
     "data": {
      "text/plain": [
       "'This code calculated to use a high res. flood depth tiffs\\nto get wave heights modified \\nWritten by Taran Kalra, August 19, 2024'"
      ]
     },
     "execution_count": 1,
     "metadata": {},
     "output_type": "execute_result"
    }
   ],
   "source": [
    "\"\"\"This code calculated an estimated mapping to understand figure 10 logarithmic \n",
    "plots, it helps to get an idea what the values for return periods would be on that scale\n",
    "Written by Taran Kalra, August 22, 2024\"\"\"\n"
   ]
  },
  {
   "cell_type": "code",
   "execution_count": 2,
   "metadata": {},
   "outputs": [],
   "source": [
    "import pandas as pd \n",
    "import matplotlib.pyplot as plt\n",
    "import numpy as np\n",
    "from scipy.io import loadmat              \n",
    "import rioxarray\n",
    "from scipy.optimize import least_squares\n",
    "#from create_raster import make_swan_raster_StructuredGrid"
   ]
  },
  {
   "cell_type": "code",
   "execution_count": 22,
   "metadata": {},
   "outputs": [
    {
     "name": "stdout",
     "output_type": "stream",
     "text": [
      "Fitted parameters: a = -1.02, b = -6.98\n"
     ]
    }
   ],
   "source": [
    "\n",
    "# Define the logarithmic function\n",
    "def log_func(params, x, y):\n",
    "    a, b = params\n",
    "    return a * np.log(x) + b - np.log(y)\n",
    "\n",
    "# Sample data\n",
    "x = np.array([1, 10, 20, 100])\n",
    "y = np.array([1e-3, 1e-4, 3e-5, 1e-5])\n",
    "\n",
    "# Transform the data\n",
    "x_log = np.log(x)\n",
    "y_log = np.log(y)\n",
    "\n",
    "# Initial guess for parameters\n",
    "params0 = [1, 1]\n",
    "\n",
    "# Define the residual function\n",
    "def residual(params):\n",
    "    return log_func(params, x, y)\n",
    "\n",
    "# Fit the curve using least_squares\n",
    "result = least_squares(residual, params0)\n",
    "\n",
    "print(\"Fitted parameters: a = {:.2f}, b = {:.2f}\".format(*result.x))"
   ]
  },
  {
   "cell_type": "code",
   "execution_count": 25,
   "metadata": {},
   "outputs": [
    {
     "name": "stdout",
     "output_type": "stream",
     "text": [
      "Predicted output : 4.5947e-04\n"
     ]
    }
   ],
   "source": [
    "\n",
    "# Fitted parameters\n",
    "a, b = result.x\n",
    "\n",
    "# Predict output for x = 10\n",
    "x_pred = 2\n",
    "y_pred = a * np.log(x_pred) + b\n",
    "\n",
    "print(\"Predicted output : {:.4e}\".format(np.exp(y_pred)))"
   ]
  }
 ],
 "metadata": {
  "kernelspec": {
   "display_name": "Python 3",
   "language": "python",
   "name": "python3"
  },
  "language_info": {
   "codemirror_mode": {
    "name": "ipython",
    "version": 3
   },
   "file_extension": ".py",
   "mimetype": "text/x-python",
   "name": "python",
   "nbconvert_exporter": "python",
   "pygments_lexer": "ipython3",
   "version": "3.11.5"
  }
 },
 "nbformat": 4,
 "nbformat_minor": 2
}
