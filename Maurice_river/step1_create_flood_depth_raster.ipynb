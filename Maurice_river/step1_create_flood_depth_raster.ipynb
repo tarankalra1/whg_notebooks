{
 "cells": [
  {
   "cell_type": "code",
   "execution_count": 1,
   "metadata": {},
   "outputs": [
    {
     "data": {
      "text/plain": [
       "'This code calculated to use a high res. topo tiff, and add storm surge water levels + SLR\\nto get flood depths in a tiff. \\nflood depth = Total water level - topo \\nWritten by Taran Kalra, August 19, 2024'"
      ]
     },
     "execution_count": 1,
     "metadata": {},
     "output_type": "execute_result"
    }
   ],
   "source": [
    "\"\"\"This code calculated to use a high res. topo tiff, and add storm surge water levels + SLR\n",
    "to get flood depths in a tiff. \n",
    "flood depth = Total water level - topo \n",
    "Written by Taran Kalra, August 19, 2024\"\"\"\n"
   ]
  },
  {
   "cell_type": "code",
   "execution_count": 2,
   "metadata": {},
   "outputs": [],
   "source": [
    "import pandas as pd \n",
    "import matplotlib.pyplot as plt\n",
    "import numpy as np\n",
    "from scipy.io import loadmat              \n",
    "import rioxarray\n",
    "import rasterio \n",
    "#from create_raster import make_swan_raster_StructuredGrid"
   ]
  },
  {
   "cell_type": "code",
   "execution_count": 3,
   "metadata": {},
   "outputs": [],
   "source": [
    "cases = [\"1perc\", \"2perc\", \"5perc\", \"10perc\", \"20perc\", \"50perc\"]\n",
    "years = [\"100yr\", \"50yr\", \"20year\", \"10year\", \"5year\", \"2year\"] # year of return \n",
    "TWL = [    7.57,   6.69,    5.69,     5.03,     4.44,    3.77] # Extracted from transect 7 \n",
    "SLR  = 0.76 # Sea level rise in 50 years from the report (this will take us to 2070) # Not using SLR "
   ]
  },
  {
   "cell_type": "code",
   "execution_count": 4,
   "metadata": {},
   "outputs": [],
   "source": [
    "scene = \"Degraded\" # \"Restored\"\n",
    "\n",
    "if (scene == \"Restored\"):\n",
    "    scenario = \"Restored\" # \"Degraded\"\n",
    "    scenario1= \"restored\" # degraded\"  \n",
    "    scenario_out = \"alt\"  # \"no_alt\"\n",
    "    #gridfile = r'C:\\Users\\tkalra\\Desktop\\NFWP_Maurice_River_NJ\\Grids\\restored_basket_flats.tif'\n",
    "    gridfile = r'C:\\Users\\tkalra\\Desktop\\NFWP_Maurice_River_NJ\\Grids\\grid_clipped_DEM_Maurice_river1.tif'\n",
    "else:\n",
    "    scenario = \"Degraded\"\n",
    "    scenario1 = \"degraded\"\n",
    "    scenario_out = \"no_alt\"\n",
    "    #gridfile = r'C:\\Users\\tkalra\\Desktop\\NFWP_Maurice_River_NJ\\Grids\\degraded_basket_flats.tif'\n",
    "    gridfile = r'C:\\Users\\tkalra\\Desktop\\NFWP_Maurice_River_NJ\\Grids\\grid_clipped_DEM_Maurice_river1.tif'\n",
    "\n",
    "# input file names\n",
    "#input_directory = r'C:\\Users\\tkalra\\Desktop\\NFWP_Maurice_River_NJ\\Grids'\n",
    "output_directory = r'C:\\Users\\tkalra\\Desktop\\NFWP_Maurice_River_NJ\\final\\Flood_depths'"
   ]
  },
  {
   "cell_type": "code",
   "execution_count": 5,
   "metadata": {},
   "outputs": [
    {
     "name": "stdout",
     "output_type": "stream",
     "text": [
      "[7.57, 6.69, 5.69, 5.03, 4.44, 3.77]\n"
     ]
    }
   ],
   "source": [
    "print(TWL)"
   ]
  },
  {
   "cell_type": "code",
   "execution_count": 6,
   "metadata": {},
   "outputs": [
    {
     "name": "stdout",
     "output_type": "stream",
     "text": [
      "C:\\Users\\tkalra\\Desktop\\NFWP_Maurice_River_NJ\\Grids\\grid_clipped_DEM_Maurice_river1.tif\n",
      "<class 'xarray.core.dataarray.DataArray'>\n",
      "C:\\Users\\tkalra\\Desktop\\NFWP_Maurice_River_NJ\\final\\Flood_depths\\1perc.tif\n",
      "-22.558971\n",
      "51.531597\n",
      "C:\\Users\\tkalra\\Desktop\\NFWP_Maurice_River_NJ\\Grids\\grid_clipped_DEM_Maurice_river1.tif\n",
      "<class 'xarray.core.dataarray.DataArray'>\n",
      "C:\\Users\\tkalra\\Desktop\\NFWP_Maurice_River_NJ\\final\\Flood_depths\\2perc.tif\n",
      "-23.43897\n",
      "50.651596\n",
      "C:\\Users\\tkalra\\Desktop\\NFWP_Maurice_River_NJ\\Grids\\grid_clipped_DEM_Maurice_river1.tif\n",
      "<class 'xarray.core.dataarray.DataArray'>\n",
      "C:\\Users\\tkalra\\Desktop\\NFWP_Maurice_River_NJ\\final\\Flood_depths\\5perc.tif\n",
      "-24.43897\n",
      "49.651596\n",
      "C:\\Users\\tkalra\\Desktop\\NFWP_Maurice_River_NJ\\Grids\\grid_clipped_DEM_Maurice_river1.tif\n",
      "<class 'xarray.core.dataarray.DataArray'>\n",
      "C:\\Users\\tkalra\\Desktop\\NFWP_Maurice_River_NJ\\final\\Flood_depths\\10perc.tif\n",
      "-25.09897\n",
      "48.991596\n",
      "C:\\Users\\tkalra\\Desktop\\NFWP_Maurice_River_NJ\\Grids\\grid_clipped_DEM_Maurice_river1.tif\n",
      "<class 'xarray.core.dataarray.DataArray'>\n",
      "C:\\Users\\tkalra\\Desktop\\NFWP_Maurice_River_NJ\\final\\Flood_depths\\20perc.tif\n",
      "-25.68897\n",
      "48.401596\n",
      "C:\\Users\\tkalra\\Desktop\\NFWP_Maurice_River_NJ\\Grids\\grid_clipped_DEM_Maurice_river1.tif\n",
      "<class 'xarray.core.dataarray.DataArray'>\n",
      "C:\\Users\\tkalra\\Desktop\\NFWP_Maurice_River_NJ\\final\\Flood_depths\\50perc.tif\n",
      "-26.35897\n",
      "47.731598\n"
     ]
    }
   ],
   "source": [
    "# Loop over the filenames in the directory\n",
    "for i, case in enumerate(cases): \n",
    "    outfile = f'{output_directory}\\{case}.tif' \n",
    " \n",
    "    print(gridfile) \n",
    "        \n",
    "    # Grid file path specified \n",
    "    # this is the finer TIFF file \n",
    "    finer_xds = rioxarray.open_rasterio(gridfile) \n",
    "    topobathy = finer_xds.squeeze() \n",
    "\n",
    "    # temp\n",
    "    ds_new    = topobathy\n",
    "    topobathy = np.where(topobathy<-9999, np.nan, topobathy)\n",
    "\n",
    "    # Need this to keep the object type correct \n",
    "    ds_new = ds_new*0.0\n",
    "    \n",
    "    # Fill the array to get flood depth, note TWL is variable for all scenarios\n",
    "    # ds_new is the wave setup interpolated the SWAN grid that is refined \n",
    "    ds_new = ds_new - topobathy  + TWL[i]   # topobathy is in meter from NOAA has reverse sign (ocean is negative, land is positive) \n",
    "    print(type(ds_new))\n",
    "    print(outfile)\n",
    "   \n",
    "  \n",
    "    ds_new.rio.to_raster(outfile) # save the new array in a raster before changing the profile of the raster\n",
    "\n",
    "    print(np.nanmin(ds_new))\n",
    "    print(np.nanmax(ds_new)) "
   ]
  },
  {
   "cell_type": "code",
   "execution_count": null,
   "metadata": {},
   "outputs": [],
   "source": []
  },
  {
   "cell_type": "code",
   "execution_count": 7,
   "metadata": {},
   "outputs": [],
   "source": [
    "\n",
    "#fig = plt.figure(figsize=(15,10))\n",
    "#ax = fig.add_subplot(1,1,1)\n",
    "#z1_plot = ax.pcolormesh(fine_data.x.values, fine_data.y.values, array, cmap='viridis', vmin=-20, vmax=20)\n",
    "#plt.colorbar(z1_plot)"
   ]
  }
 ],
 "metadata": {
  "kernelspec": {
   "display_name": "Python 3",
   "language": "python",
   "name": "python3"
  },
  "language_info": {
   "codemirror_mode": {
    "name": "ipython",
    "version": 3
   },
   "file_extension": ".py",
   "mimetype": "text/x-python",
   "name": "python",
   "nbconvert_exporter": "python",
   "pygments_lexer": "ipython3",
   "version": "3.11.5"
  }
 },
 "nbformat": 4,
 "nbformat_minor": 2
}
