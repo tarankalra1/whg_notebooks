{
 "cells": [
  {
   "cell_type": "code",
   "execution_count": 1,
   "metadata": {},
   "outputs": [
    {
     "data": {
      "text/plain": [
       "'This code calculated to use \\nLogarithmic figure 10 from Maurice river report\\nWritten by Taran Kalra, August 19, 2024'"
      ]
     },
     "execution_count": 1,
     "metadata": {},
     "output_type": "execute_result"
    }
   ],
   "source": [
    "\"\"\"This code calculated to use \n",
    "Logarithmic figure 10 from Maurice river report\n",
    "Written by Taran Kalra, August 19, 2024\"\"\"\n"
   ]
  },
  {
   "cell_type": "code",
   "execution_count": 2,
   "metadata": {},
   "outputs": [],
   "source": [
    "import pandas as pd \n",
    "import matplotlib.pyplot as plt\n",
    "import numpy as np\n",
    "from scipy.io import loadmat              \n",
    "import rioxarray\n",
    "from scipy.optimize import least_squares\n",
    "#from create_raster import make_swan_raster_StructuredGrid"
   ]
  },
  {
   "cell_type": "code",
   "execution_count": 3,
   "metadata": {},
   "outputs": [],
   "source": [
    "\n",
    "a = -0.572\n",
    "b= 1.2416"
   ]
  },
  {
   "cell_type": "code",
   "execution_count": 4,
   "metadata": {},
   "outputs": [],
   "source": [
    "xx1 = [1000, 100, 50,   20,       10 ,    5,   2,    1]\n",
    "xx = [1e-6, 1e-5, 2e-5, 3e-05,    1e-4,  2e-4, 5e-4, 1e-3]"
   ]
  },
  {
   "cell_type": "code",
   "execution_count": 5,
   "metadata": {},
   "outputs": [],
   "source": [
    "yy=[]"
   ]
  },
  {
   "cell_type": "code",
   "execution_count": 6,
   "metadata": {},
   "outputs": [
    {
     "name": "stdout",
     "output_type": "stream",
     "text": [
      "1e-06\n",
      "1e-05\n",
      "2e-05\n",
      "3e-05\n",
      "0.0001\n",
      "0.0002\n",
      "0.0005\n",
      "0.001\n"
     ]
    }
   ],
   "source": [
    "for i in range(len(xx)):\n",
    "    #print(xx)\n",
    "    print(xx[i])\n",
    "    y = a*np.log(xx[i])+b\n",
    "    yy.append(y)"
   ]
  },
  {
   "cell_type": "code",
   "execution_count": 8,
   "metadata": {},
   "outputs": [
    {
     "name": "stdout",
     "output_type": "stream",
     "text": [
      "[9.14 7.83 7.43 7.2  6.51 6.11 5.59 5.19]\n"
     ]
    }
   ],
   "source": [
    "print(np.round(yy,2))"
   ]
  }
 ],
 "metadata": {
  "kernelspec": {
   "display_name": "Python 3",
   "language": "python",
   "name": "python3"
  },
  "language_info": {
   "codemirror_mode": {
    "name": "ipython",
    "version": 3
   },
   "file_extension": ".py",
   "mimetype": "text/x-python",
   "name": "python",
   "nbconvert_exporter": "python",
   "pygments_lexer": "ipython3",
   "version": "3.11.5"
  }
 },
 "nbformat": 4,
 "nbformat_minor": 2
}
