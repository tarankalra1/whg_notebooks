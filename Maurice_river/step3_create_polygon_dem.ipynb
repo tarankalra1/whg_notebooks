{
 "cells": [
  {
   "cell_type": "code",
   "execution_count": 1,
   "metadata": {},
   "outputs": [
    {
     "data": {
      "text/plain": [
       "'This code is used to clip the topo tif file in a bounding box that defines the grid \\nJuly 20, 2024 written by Tarandeep Kalra\\n'"
      ]
     },
     "execution_count": 1,
     "metadata": {},
     "output_type": "execute_result"
    }
   ],
   "source": [
    "\"\"\"This code is used to clip the topo tif file in a bounding box that defines the grid \n",
    "July 20, 2024 written by Tarandeep Kalra\n",
    "\"\"\""
   ]
  },
  {
   "cell_type": "code",
   "execution_count": 2,
   "metadata": {},
   "outputs": [],
   "source": [
    "\n",
    "import pandas as pd \n",
    "import matplotlib.pyplot as plt\n",
    "import numpy as np\n",
    "from osgeo import gdal, osr, ogr\n",
    "import rasterio\n",
    "from rasterio.warp import calculate_default_transform, reproject\n",
    "from rasterio.crs import CRS\n",
    "from shapely.geometry import Polygon\n",
    "#from scipy.io import loadmat          "
   ]
  },
  {
   "cell_type": "code",
   "execution_count": 3,
   "metadata": {},
   "outputs": [],
   "source": [
    "#gridfile = r'C:\\Users\\tkalra\\Desktop\\NFWP_Swan_coral_USVirgin\\69532_Coral_Reefs_St_Croix\\Grid\\output_new_small2.tif'\n",
    "#out_grid_file = r'C:\\Users\\tkalra\\Desktop\\NFWP_Swan_coral_USVirgin\\69532_Coral_Reefs_St_Croix\\Grid\\restored_USVI_rasterio.tif'\n",
    "input = r'C:\\Users\\tkalra\\Downloads\\2018_usgs_southJersey_Job1056745\\2018_usgs_southJersey_Job1056745.tif'\n",
    "# Open the TIFF file\n",
    "ds = gdal.Open(input)"
   ]
  },
  {
   "cell_type": "code",
   "execution_count": 4,
   "metadata": {},
   "outputs": [],
   "source": [
    "\n",
    "# Define the coordinates for clipping (x, y)\n",
    "#coords = [(100, 100), (200, 100), (200, 200), (100, 200), (50, 150), (150, 50)]\n",
    "coords = [(336284, 142058), (335020, 150495), (352506, 150495), (336037, 144437), (349013, 141203)]"
   ]
  },
  {
   "cell_type": "code",
   "execution_count": 5,
   "metadata": {},
   "outputs": [],
   "source": [
    "# Create a Polygon object from the coordinates\n",
    "polygon = Polygon(coords)"
   ]
  },
  {
   "cell_type": "code",
   "execution_count": 6,
   "metadata": {},
   "outputs": [],
   "source": [
    "\n",
    "# Open the input TIFF file using Rasterio\n",
    "with rasterio.open(input) as src:\n",
    "    # Get the CRS of the input TIFF file\n",
    "    src_crs = src.crs\n",
    "\n",
    "    # Calculate the default transform for the clipped output\n",
    "    transform, width, height = calculate_default_transform(\n",
    "        src_crs, src_crs, polygon.bounds[0], polygon.bounds[1], polygon.bounds[2], polygon.bounds[3], *src.shape)\n",
    "\n",
    "    # Create a new Rasterio dataset for the clipped output\n",
    "    with rasterio.open(\n",
    "        'clipped.tif',\n",
    "        'w',\n",
    "        driver='GTiff',\n",
    "        height=height,\n",
    "        width=width,\n",
    "        count=src.count,\n",
    "        dtype=src.dtypes[0],\n",
    "        crs=src_crs,\n",
    "        transform=transform,\n",
    "    ) as dst:\n",
    "        # Clip the input TIFF file using the polygon\n",
    "        reproject(\n",
    "            source=rasterio.band(src, 1),\n",
    "            destination=rasterio.band(dst, 1),\n",
    "            src_transform=src.transform,\n",
    "            src_crs=src_crs,\n",
    "            dst_transform=transform,\n",
    "            dst_crs=src_crs,\n",
    "            resampling=rasterio.warp.Resampling.bilinear,\n",
    "            num_threads=4,\n",
    "        )"
   ]
  }
 ],
 "metadata": {
  "kernelspec": {
   "display_name": "Python 3",
   "language": "python",
   "name": "python3"
  },
  "language_info": {
   "codemirror_mode": {
    "name": "ipython",
    "version": 3
   },
   "file_extension": ".py",
   "mimetype": "text/x-python",
   "name": "python",
   "nbconvert_exporter": "python",
   "pygments_lexer": "ipython3",
   "version": "3.11.5"
  }
 },
 "nbformat": 4,
 "nbformat_minor": 2
}
