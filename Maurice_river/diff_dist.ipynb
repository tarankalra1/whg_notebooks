{
 "cells": [
  {
   "cell_type": "code",
   "execution_count": 1,
   "metadata": {},
   "outputs": [
    {
     "data": {
      "text/plain": [
       "'This code calculated to use a high res. topo tiff, and add storm surge water levels + SLR\\nto get flood depths in a tiff. \\nflood depth = Total water level - topo \\nWritten by Taran Kalra, August 19, 2024'"
      ]
     },
     "execution_count": 1,
     "metadata": {},
     "output_type": "execute_result"
    }
   ],
   "source": [
    "\"\"\"This code calculated to use a high res. topo tiff, and add storm surge water levels + SLR\n",
    "to get flood depths in a tiff. \n",
    "flood depth = Total water level - topo \n",
    "Written by Taran Kalra, August 19, 2024\"\"\"\n"
   ]
  },
  {
   "cell_type": "code",
   "execution_count": 2,
   "metadata": {},
   "outputs": [],
   "source": [
    "import pandas as pd \n",
    "import matplotlib.pyplot as plt\n",
    "import numpy as np\n",
    "from scipy.io import loadmat              \n",
    "import rioxarray\n",
    "import rasterio \n",
    "#from create_raster import make_swan_raster_StructuredGrid"
   ]
  },
  {
   "cell_type": "code",
   "execution_count": 5,
   "metadata": {},
   "outputs": [],
   "source": [
    "import math\n",
    "\n",
    "def calculate_distance(easting1, northing1, easting2, northing2):\n",
    "    \"\"\"\n",
    "    Calculate the distance between two points given their Eastings and Northings.\n",
    "\n",
    "    Parameters:\n",
    "    easting1 (float): Easting of the first point in feet\n",
    "    northing1 (float): Northing of the first point in feet\n",
    "    easting2 (float): Easting of the second point in feet\n",
    "    northing2 (float): Northing of the second point in feet\n",
    "\n",
    "    Returns:\n",
    "    float: Distance between the two points in feet\n",
    "    \"\"\"\n",
    "    delta_easting = easting2 - easting1\n",
    "    delta_northing = northing2 - northing1\n",
    "\n",
    "    distance = math.sqrt(delta_easting ** 2 + delta_northing ** 2)\n",
    "\n",
    "    return distance\n",
    "\n",
    "# Example usage:\n",
    "easting1 = 340827.06\t\n",
    "northing1 = 141678.71\n",
    "easting2 = 340916.65\t\n",
    "northing2 = 141634.28\n",
    "\n",
    "easting1 = 341006.23\t\n",
    "northing1= 141589.85\n",
    "easting2 = 341095.82\t\n",
    "northing2 = 141545.42\n",
    "\n",
    "distance = calculate_distance(easting1, northing1, easting2, northing2)"
   ]
  },
  {
   "cell_type": "code",
   "execution_count": 6,
   "metadata": {},
   "outputs": [
    {
     "name": "stdout",
     "output_type": "stream",
     "text": [
      "100.00196498071409\n"
     ]
    }
   ],
   "source": [
    "print(distance)"
   ]
  },
  {
   "cell_type": "code",
   "execution_count": null,
   "metadata": {},
   "outputs": [],
   "source": [
    "# Loop over the filenames in the directory\n",
    "for i, case in enumerate(cases): \n",
    "    outfile = f'{output_directory}\\{case}_{scenario_out}.tif' \n",
    " \n",
    "    print(outfile) \n",
    "        \n",
    "    # Grid file path specified \n",
    "    # this is the finer TIFF file \n",
    "    finer_xds = rioxarray.open_rasterio(gridfile) \n",
    "    topobathy = finer_xds.squeeze() \n",
    "\n",
    "    # Fill the array to get flood depth, note TWL is variable for all scenarios\n",
    "    # ds_new is the wave setup interpolated the SWAN grid that is refined \n",
    "    ds_new = ds_new + TWL[i] - topobathy # topobathy is in meter from NOAA has reverse sign (ocean is negative, land is positive) \n",
    "    #ds_new = (ds_new + TWL[i])*0.0 - topobathy\n",
    " \n",
    "    print(\"Converting meters to feet\")\n",
    "    #ds_new = ds_new.squeeze()\n",
    "    #ds_new = m_to_feet*ds_new # (ds_new is in feet)\n",
    "    #print(type(ds_new))\n",
    "    ds_new.rio.to_raster(outfile_refine_raster) # save the new array in a raster before changing the profile of the raster "
   ]
  },
  {
   "cell_type": "code",
   "execution_count": null,
   "metadata": {},
   "outputs": [],
   "source": [
    "print(np.nanmin(ds_new))\n",
    "print(np.nanmax(ds_new))"
   ]
  },
  {
   "cell_type": "code",
   "execution_count": null,
   "metadata": {},
   "outputs": [],
   "source": [
    "\n",
    "#fig = plt.figure(figsize=(15,10))\n",
    "#ax = fig.add_subplot(1,1,1)\n",
    "#z1_plot = ax.pcolormesh(fine_data.x.values, fine_data.y.values, array, cmap='viridis', vmin=-20, vmax=20)\n",
    "#plt.colorbar(z1_plot)"
   ]
  }
 ],
 "metadata": {
  "kernelspec": {
   "display_name": "Python 3",
   "language": "python",
   "name": "python3"
  },
  "language_info": {
   "codemirror_mode": {
    "name": "ipython",
    "version": 3
   },
   "file_extension": ".py",
   "mimetype": "text/x-python",
   "name": "python",
   "nbconvert_exporter": "python",
   "pygments_lexer": "ipython3",
   "version": "3.11.5"
  }
 },
 "nbformat": 4,
 "nbformat_minor": 2
}
