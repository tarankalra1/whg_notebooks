{
 "cells": [
  {
   "cell_type": "code",
   "execution_count": null,
   "metadata": {},
   "outputs": [],
   "source": [
    "\"\"\"This code calculated to use a high res. flood depth tiffs\n",
    "to get wave heights modified \n",
    "Written by Taran Kalra, August 19, 2024\"\"\"\n"
   ]
  },
  {
   "cell_type": "code",
   "execution_count": 1,
   "metadata": {},
   "outputs": [],
   "source": [
    "import pandas as pd \n",
    "import matplotlib.pyplot as plt\n",
    "import numpy as np\n",
    "from scipy.io import loadmat              \n",
    "import rioxarray\n",
    "import rasterio \n",
    "#from create_raster import make_swan_raster_StructuredGrid"
   ]
  },
  {
   "cell_type": "code",
   "execution_count": 2,
   "metadata": {},
   "outputs": [],
   "source": [
    "cases = [\"1perc\", \"2perc\", \"5perc\", \"10perc\", \"20perc\", \"50perc\"]\n",
    "years = [\"100yr\", \"50yr\", \"20year\", \"10year\", \"5year\", \"2year\"] # year of return \n",
    "max_wave_height = [5, 5, 5 , 5, 5, 5]"
   ]
  },
  {
   "cell_type": "code",
   "execution_count": 149,
   "metadata": {},
   "outputs": [],
   "source": [
    "a= -0.636\n",
    "b = 8.675\n",
    "\n",
    "a = -0.572\n",
    "b= 1.2416"
   ]
  },
  {
   "cell_type": "code",
   "execution_count": 150,
   "metadata": {},
   "outputs": [],
   "source": [
    "xx = [1e-6, 1e-5, 3.0000e-05, 1e-4, 1e-3, 1e-2, 1e-1,1]\n",
    "\n",
    "#yy = np.array(xx)\n",
    "#xx = np.array(xx)"
   ]
  },
  {
   "cell_type": "code",
   "execution_count": 151,
   "metadata": {},
   "outputs": [],
   "source": [
    "yy=[]"
   ]
  },
  {
   "cell_type": "code",
   "execution_count": 152,
   "metadata": {},
   "outputs": [
    {
     "data": {
      "text/plain": [
       "53.333333333333336"
      ]
     },
     "execution_count": 152,
     "metadata": {},
     "output_type": "execute_result"
    }
   ],
   "source": [
    "320/6\n"
   ]
  },
  {
   "cell_type": "code",
   "execution_count": 153,
   "metadata": {},
   "outputs": [
    {
     "name": "stdout",
     "output_type": "stream",
     "text": [
      "1e-06\n",
      "1e-05\n",
      "3e-05\n",
      "0.0001\n",
      "0.001\n",
      "0.01\n",
      "0.1\n",
      "1\n"
     ]
    }
   ],
   "source": [
    "for i in range(len(xx)):\n",
    "    #print(xx)\n",
    "    print(xx[i])\n",
    "    y = a*np.log(xx[i])+b\n",
    "    yy.append(y)"
   ]
  },
  {
   "cell_type": "code",
   "execution_count": 154,
   "metadata": {},
   "outputs": [
    {
     "name": "stdout",
     "output_type": "stream",
     "text": [
      "[9.14 7.83 7.2  6.51 5.19 3.88 2.56 1.24]\n",
      "[1e-06, 1e-05, 3e-05, 0.0001, 0.001, 0.01, 0.1, 1]\n"
     ]
    }
   ],
   "source": [
    "yy=np.round(yy,2)\n",
    "print(yy)\n",
    "print(xx)"
   ]
  },
  {
   "cell_type": "code",
   "execution_count": 99,
   "metadata": {},
   "outputs": [
    {
     "data": {
      "text/plain": [
       "6.00817111271329e-06"
      ]
     },
     "execution_count": 99,
     "metadata": {},
     "output_type": "execute_result"
    }
   ],
   "source": [
    "1/(365*24*19)"
   ]
  },
  {
   "cell_type": "code",
   "execution_count": 128,
   "metadata": {},
   "outputs": [],
   "source": [
    "xx = [1e-3, 1e-4,  1e-5]\n",
    "yy=[]"
   ]
  },
  {
   "cell_type": "code",
   "execution_count": 129,
   "metadata": {},
   "outputs": [
    {
     "name": "stdout",
     "output_type": "stream",
     "text": [
      "-6.907755278982137\n",
      "-9.210340371976182\n",
      "-11.512925464970229\n"
     ]
    }
   ],
   "source": [
    "for i in range(len(xx)):\n",
    "    #print(xx)\n",
    "    #prinxx[i])\n",
    "    y = np.log(xx[i])\n",
    "    yy.append(y)\n",
    "    print(y)"
   ]
  },
  {
   "cell_type": "code",
   "execution_count": 57,
   "metadata": {},
   "outputs": [],
   "source": [
    "# Define the logarithmic function\n",
    "def log_func(x, a, b):\n",
    "    return a * np.log(x) + b"
   ]
  },
  {
   "cell_type": "code",
   "execution_count": 66,
   "metadata": {},
   "outputs": [],
   "source": [
    "from scipy.optimize import curve_fit\n",
    " "
   ]
  },
  {
   "cell_type": "code",
   "execution_count": 70,
   "metadata": {},
   "outputs": [],
   "source": [
    "from scipy.optimize import least_squares\n"
   ]
  },
  {
   "cell_type": "code",
   "execution_count": 130,
   "metadata": {},
   "outputs": [],
   "source": [
    "\n",
    "# Define the logarithmic function\n",
    "def log_func(params, x, y):\n",
    "    a, b = params\n",
    "    return a * np.log(x) + b - np.log(y)\n",
    "\n",
    "# Sample data\n",
    "x = np.array([1, 10, 100])\n",
    "y = np.array([1e-3, 1e-4, 1e-5])\n",
    "\n",
    "# Transform the data\n",
    "x_log = np.log(x)\n",
    "y_log = np.log(y)\n",
    "\n",
    "# Initial guess for parameters\n",
    "params0 = [1, 1]\n",
    "\n",
    "# Define the residual function\n",
    "def residual(params):\n",
    "    return log_func(params, x, y)\n",
    "\n",
    "# Fit the curve using least_squares\n",
    "result = least_squares(residual, params0)\n",
    "\n",
    "print(\"Fitted parameters: a = {:.2f}, b = {:.2f}\".format(*result.x))"
   ]
  },
  {
   "cell_type": "code",
   "execution_count": 131,
   "metadata": {},
   "outputs": [
    {
     "name": "stdout",
     "output_type": "stream",
     "text": [
      "Fitted parameters: a = -1.00, b = -6.91\n"
     ]
    }
   ],
   "source": [
    "\n"
   ]
  },
  {
   "cell_type": "code",
   "execution_count": 132,
   "metadata": {},
   "outputs": [
    {
     "name": "stdout",
     "output_type": "stream",
     "text": [
      "Predicted output for x = 10: 5.0000e-05\n"
     ]
    }
   ],
   "source": [
    "\n",
    "import numpy as np\n",
    "from scipy.optimize import least_squares\n",
    "\n",
    "# ... (rest of the code remains the same)\n",
    "\n",
    "# Fitted parameters\n",
    "a, b = result.x\n",
    "\n",
    "# Predict output for x = 10\n",
    "x_pred = 20\n",
    "y_pred = a * np.log(x_pred) + b\n",
    "\n",
    "print(\"Predicted output for x = 10: {:.4e}\".format(np.exp(y_pred)))"
   ]
  },
  {
   "cell_type": "code",
   "execution_count": null,
   "metadata": {},
   "outputs": [],
   "source": [
    "\n",
    "\n",
    "# Plot the data and the fitted curve\n",
    "import matplotlib.pyplot as plt\n",
    "\n",
    "plt.plot(x, y, 'bo', label='Data')\n",
    "plt.plot(x_fit, y_fit, 'r-', label='Fitted curve')\n",
    "plt.legend()\n",
    "plt.show()"
   ]
  },
  {
   "cell_type": "code",
   "execution_count": null,
   "metadata": {},
   "outputs": [],
   "source": []
  },
  {
   "cell_type": "code",
   "execution_count": null,
   "metadata": {},
   "outputs": [],
   "source": [
    "breaking_wave_coefficient = 0.78 "
   ]
  },
  {
   "cell_type": "code",
   "execution_count": null,
   "metadata": {},
   "outputs": [],
   "source": [
    "# Loop over the filenames in the directory\n",
    "for i, case in enumerate(cases): \n",
    "    outfile = f'{output_directory}\\{case}_{scenario_out}_wave_height.tif' \n",
    " \n",
    "    print(gridfile) \n",
    "        \n",
    "    # Grid file path specified \n",
    "    # this is the finer TIFF file \n",
    "    finer_xds = rioxarray.open_rasterio(gridfile) \n",
    "    depth = finer_xds.squeeze() \n",
    "\n",
    "    # This is different for each pixel \n",
    "    breaking_wave_depth_criteria = 1.3*depth \n",
    "\n",
    "    # Send the wave height for each scenario \n",
    "    #Hs_mod = modify_wave_height(max_wave_height, depth, breaking_wave_coefficient , breaking_wave_depth_criteria)\n",
    "\n",
    "    breaking_wave_height = breaking_wave_coefficient * (depth)\n",
    "\n",
    "    ds_new = depth*0.0\n",
    "    modified_max_wave_height = max_wave_height[i] + ds_new # to convert a raster array of max wave height over the domain\n",
    "    print(type(modified_max_wave_height))\n",
    "    modified_max_wave_height = np.where(depth<=breaking_wave_depth_criteria, breaking_wave_height, max_wave_height[i])\n",
    "\n",
    "    # Fill the array to get modified wave height \n",
    "    ds_new = modified_max_wave_height + ds_new # Add 0's through ds_new to make sure it is a xarray object that can be converted through rio command \n",
    "    print(type(ds_new))\n",
    "    print(outfile)\n",
    "  \n",
    "    ds_new.rio.to_raster(outfile) # save the new array in a raster before changing the profile of the raster\n",
    "\n",
    "    print(np.nanmin(ds_new))\n",
    "    print(np.nanmax(ds_new)) "
   ]
  },
  {
   "cell_type": "code",
   "execution_count": null,
   "metadata": {},
   "outputs": [],
   "source": []
  },
  {
   "cell_type": "code",
   "execution_count": null,
   "metadata": {},
   "outputs": [],
   "source": [
    "\n",
    "#fig = plt.figure(figsize=(15,10))\n",
    "#ax = fig.add_subplot(1,1,1)\n",
    "#z1_plot = ax.pcolormesh(fine_data.x.values, fine_data.y.values, array, cmap='viridis', vmin=-20, vmax=20)\n",
    "#plt.colorbar(z1_plot)"
   ]
  }
 ],
 "metadata": {
  "kernelspec": {
   "display_name": "Python 3",
   "language": "python",
   "name": "python3"
  },
  "language_info": {
   "codemirror_mode": {
    "name": "ipython",
    "version": 3
   },
   "file_extension": ".py",
   "mimetype": "text/x-python",
   "name": "python",
   "nbconvert_exporter": "python",
   "pygments_lexer": "ipython3",
   "version": "3.11.5"
  }
 },
 "nbformat": 4,
 "nbformat_minor": 2
}
