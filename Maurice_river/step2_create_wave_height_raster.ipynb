{
 "cells": [
  {
   "cell_type": "code",
   "execution_count": 1,
   "metadata": {},
   "outputs": [
    {
     "data": {
      "text/plain": [
       "'This code calculated to use a high res. flood depth tiffs\\nto get wave heights modified \\nWritten by Taran Kalra, August 19, 2024'"
      ]
     },
     "execution_count": 1,
     "metadata": {},
     "output_type": "execute_result"
    }
   ],
   "source": [
    "\"\"\"This code calculated to use a high res. flood depth tiffs\n",
    "to get wave heights modified \n",
    "Written by Taran Kalra, August 19, 2024\"\"\"\n"
   ]
  },
  {
   "cell_type": "code",
   "execution_count": 2,
   "metadata": {},
   "outputs": [],
   "source": [
    "import pandas as pd \n",
    "import matplotlib.pyplot as plt\n",
    "import numpy as np\n",
    "from scipy.io import loadmat              \n",
    "import rioxarray\n",
    "import rasterio \n",
    "#from create_raster import make_swan_raster_StructuredGrid"
   ]
  },
  {
   "cell_type": "code",
   "execution_count": 3,
   "metadata": {},
   "outputs": [],
   "source": [
    "cases = [\"1perc\", \"2perc\", \"5perc\", \"10perc\", \"20perc\", \"50perc\"]\n",
    "years = [\"100yr\", \"50yr\", \"20year\", \"10year\", \"5year\", \"2year\"] # year of return \n",
    "max_wave_height = [7.83, 7.43, 7.2, 6.51, 6.11, 5.59]\n",
    "transformation_factor_restored = 0.5 # Factor that reduces incoming wave height, Based on internal discussions "
   ]
  },
  {
   "cell_type": "code",
   "execution_count": 4,
   "metadata": {},
   "outputs": [],
   "source": [
    "scene = \"Degraded\" # \"Restored\"\n",
    "\n",
    "if (scene == \"Restored\"):\n",
    "    scenario = \"Restored\" # \"Degraded\"\n",
    "    scenario1= \"restored\" # degraded\"  \n",
    "    scenario_out = \"alt\"  # \"no_alt\"\n",
    "    max_wave_height = transformation_factor_restored*np.array(max_wave_height)\n",
    "\n",
    "else:\n",
    "    scenario = \"Degraded\"\n",
    "    scenario1 = \"degraded\"\n",
    "    scenario_out = \"no_alt\"\n",
    "    #max_wave_height = transformation_factor_degraded*max_wave_height \n",
    "\n",
    "\n",
    "# input file names\n",
    "output_directory = r'C:\\Users\\tkalra\\Desktop\\NFWP_Maurice_River_NJ\\final\\Wave_height'\n",
    "flood_depth_directory = r'C:\\Users\\tkalra\\Desktop\\NFWP_Maurice_River_NJ\\final\\Flood_depths'"
   ]
  },
  {
   "cell_type": "code",
   "execution_count": 5,
   "metadata": {},
   "outputs": [],
   "source": [
    "breaking_wave_coefficient = 0.78 "
   ]
  },
  {
   "cell_type": "code",
   "execution_count": 6,
   "metadata": {},
   "outputs": [
    {
     "name": "stdout",
     "output_type": "stream",
     "text": [
      "<class 'xarray.core.dataarray.DataArray'>\n",
      "C:\\Users\\tkalra\\Desktop\\NFWP_Maurice_River_NJ\\final\\Wave_height\\1perc_no_alt.tif\n",
      "0.0\n",
      "7.83\n",
      "<class 'xarray.core.dataarray.DataArray'>\n",
      "C:\\Users\\tkalra\\Desktop\\NFWP_Maurice_River_NJ\\final\\Wave_height\\2perc_no_alt.tif\n",
      "0.0\n",
      "7.43\n",
      "<class 'xarray.core.dataarray.DataArray'>\n",
      "C:\\Users\\tkalra\\Desktop\\NFWP_Maurice_River_NJ\\final\\Wave_height\\5perc_no_alt.tif\n",
      "0.0\n",
      "7.2\n",
      "<class 'xarray.core.dataarray.DataArray'>\n",
      "C:\\Users\\tkalra\\Desktop\\NFWP_Maurice_River_NJ\\final\\Wave_height\\10perc_no_alt.tif\n",
      "0.0\n",
      "6.51\n",
      "<class 'xarray.core.dataarray.DataArray'>\n",
      "C:\\Users\\tkalra\\Desktop\\NFWP_Maurice_River_NJ\\final\\Wave_height\\20perc_no_alt.tif\n",
      "0.0\n",
      "6.11\n",
      "<class 'xarray.core.dataarray.DataArray'>\n",
      "C:\\Users\\tkalra\\Desktop\\NFWP_Maurice_River_NJ\\final\\Wave_height\\50perc_no_alt.tif\n",
      "0.0\n",
      "5.59\n"
     ]
    }
   ],
   "source": [
    "# Loop over the filenames in the directory\n",
    "for i, case in enumerate(cases): \n",
    "    outfile = f'{output_directory}\\{case}_{scenario_out}.tif' \n",
    " \n",
    "    flood_depth_file = f'{flood_depth_directory}\\{case}.tif'\n",
    "\n",
    "    # Grid file path specified \n",
    "    # this is the finer TIFF file \n",
    "    finer_xds = rioxarray.open_rasterio(flood_depth_file) \n",
    "    depth = finer_xds.squeeze() \n",
    "\n",
    "    # This is different for each pixel \n",
    "    #breaking_wave_depth_criteria = 1.3*depth \n",
    "    # Reduce the wave height and save it in a temporary array\n",
    "    #breaking_wave_height = breaking_wave_coefficient * (max_wave_height[i])\n",
    "    ds_new = depth*0.0 # make an array of zeros \n",
    "\n",
    "    modified_max_wave_height = max_wave_height[i] + ds_new # to convert a raster array of max wave height over the domain\n",
    "\n",
    "    # Calculate the breaking depth criterion\n",
    "    breaking_criteria = modified_max_wave_height > breaking_wave_coefficient*depth\n",
    "\n",
    "    # Calculate the new wave height for broken waves\n",
    "    new_wave_height = breaking_wave_coefficient*depth \n",
    "\n",
    "\n",
    "    #print(type(modified_max_wave_height))\n",
    "    # If depth <= breaking wave depth criteria, then replace the wave height with broken wave heights, otherwise keep it as is. \n",
    "    modified_max_wave_height = np.where(breaking_criteria, new_wave_height, modified_max_wave_height)\n",
    "    # make negative numbers  = 0\n",
    "    modified_max_wave_height = np.where(modified_max_wave_height<0, 0.0, modified_max_wave_height)\n",
    "    # Fill the array to get modified wave height \n",
    "    ds_new = modified_max_wave_height + ds_new # Add 0's through ds_new to make sure it is a xarray object that can be converted through rio command \n",
    "     \n",
    "    print(type(ds_new))\n",
    "    print(outfile)\n",
    "  \n",
    "    ds_new.rio.to_raster(outfile) # save the new array in a raster before changing the profile of the raster\n",
    "\n",
    "    print(np.nanmin(ds_new))\n",
    "    print(np.nanmax(ds_new)) "
   ]
  },
  {
   "cell_type": "code",
   "execution_count": 7,
   "metadata": {},
   "outputs": [
    {
     "data": {
      "text/plain": [
       "0.64"
      ]
     },
     "execution_count": 7,
     "metadata": {},
     "output_type": "execute_result"
    }
   ],
   "source": [
    "1.6/2.5"
   ]
  },
  {
   "cell_type": "code",
   "execution_count": 8,
   "metadata": {},
   "outputs": [],
   "source": [
    "\n",
    "#fig = plt.figure(figsize=(15,10))\n",
    "#ax = fig.add_subplot(1,1,1)\n",
    "#z1_plot = ax.pcolormesh(fine_data.x.values, fine_data.y.values, array, cmap='viridis', vmin=-20, vmax=20)\n",
    "#plt.colorbar(z1_plot)"
   ]
  }
 ],
 "metadata": {
  "kernelspec": {
   "display_name": "Python 3",
   "language": "python",
   "name": "python3"
  },
  "language_info": {
   "codemirror_mode": {
    "name": "ipython",
    "version": 3
   },
   "file_extension": ".py",
   "mimetype": "text/x-python",
   "name": "python",
   "nbconvert_exporter": "python",
   "pygments_lexer": "ipython3",
   "version": "3.11.5"
  }
 },
 "nbformat": 4,
 "nbformat_minor": 2
}
