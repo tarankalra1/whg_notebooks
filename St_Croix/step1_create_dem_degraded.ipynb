{
 "cells": [
  {
   "cell_type": "code",
   "execution_count": 1,
   "metadata": {},
   "outputs": [
    {
     "data": {
      "text/plain": [
       "'This code is used to clip that takes the manual inspection of where the reef is degraded so decrease\\nthe depth in that bounding box \\nJuly 20, 2024 written by Tarandeep Kalra\\n'"
      ]
     },
     "execution_count": 1,
     "metadata": {},
     "output_type": "execute_result"
    }
   ],
   "source": [
    "\"\"\"This code is used to clip that takes the manual inspection of where the reef is degraded so decrease\n",
    "the depth in that bounding box \n",
    "July 20, 2024 written by Tarandeep Kalra\n",
    "\"\"\"\n",
    "\n",
    "#from scipy.io import loadmat              "
   ]
  },
  {
   "cell_type": "code",
   "execution_count": 2,
   "metadata": {},
   "outputs": [],
   "source": [
    "import pandas as pd \n",
    "import matplotlib.pyplot as plt\n",
    "import numpy as np\n",
    "import rioxarray\n",
    "import rasterio\n",
    "from rasterio.warp import Affine\n"
   ]
  },
  {
   "cell_type": "code",
   "execution_count": 3,
   "metadata": {},
   "outputs": [],
   "source": [
    "#gridfile = r'C:\\Users\\tkalra\\Desktop\\NFWP_Swan_coral_USVirgin\\69532_Coral_Reefs_St_Croix\\Grid\\output_new_small2.tif'\n",
    "input_tiff = r'C:\\Users\\tkalra\\Desktop\\NFWP_Swan_coral_USVirgin\\69532_Coral_Reefs_St_Croix\\Grid\\restored_USVI_rasterio.tif'\n",
    "output_tiff = r'C:\\Users\\tkalra\\Desktop\\NFWP_Swan_coral_USVirgin\\69532_Coral_Reefs_St_Croix\\Grid\\degraded_USVI_rasterio.tif'\n"
   ]
  },
  {
   "cell_type": "code",
   "execution_count": 4,
   "metadata": {},
   "outputs": [],
   "source": [
    "# Manual inspection of bounding box\n",
    "bbox = [391418.6, 193156.7, 392815.4, 193507.9]\n",
    "#new_value = -10 "
   ]
  },
  {
   "cell_type": "code",
   "execution_count": 5,
   "metadata": {},
   "outputs": [
    {
     "ename": "",
     "evalue": "",
     "output_type": "error",
     "traceback": [
      "\u001b[1;31mThe Kernel crashed while executing code in the current cell or a previous cell. \n",
      "\u001b[1;31mPlease review the code in the cell(s) to identify a possible cause of the failure. \n",
      "\u001b[1;31mClick <a href='https://aka.ms/vscodeJupyterKernelCrash'>here</a> for more info. \n",
      "\u001b[1;31mView Jupyter <a href='command:jupyter.viewOutput'>log</a> for further details."
     ]
    }
   ],
   "source": [
    "# Open the input raster file\n",
    "with rasterio.open(input_tiff) as src:\n",
    "\n",
    "    # Get the metadata of the input raster file\n",
    "    meta = src.meta\n",
    "\n",
    "    # Read the data from the input raster file\n",
    "    data = src.read(1)\n",
    "\n",
    "    # Calculate the window for the bounding box\n",
    "    window = rasterio.windows.from_bounds(bbox[0], bbox[1], bbox[2], bbox[3], src.transform)\n",
    "\n",
    "    # Get the row and column offsets\n",
    "    row_off = int(window.row_off)\n",
    "    col_off = int(window.col_off)\n",
    "\n",
    "    # Get the height and width of the window\n",
    "    height = int(window.height)\n",
    "    width = int(window.width)\n",
    "\n",
    "    # Change the band values within the bounding box\n",
    "    #data[row_off:row_off+height, col_off:col_off+width] = new_value\n",
    "    data_old = data[row_off:row_off+height, col_off:col_off+width]\n",
    "    data[row_off:row_off+height, col_off:col_off+width] = data_old-1\n",
    "\n",
    "    # Write the data to the output raster file\n",
    "    with rasterio.open(output_tiff, 'w', **meta) as dst:\n",
    "        dst.write(data, 1)"
   ]
  }
 ],
 "metadata": {
  "kernelspec": {
   "display_name": "Python 3",
   "language": "python",
   "name": "python3"
  },
  "language_info": {
   "codemirror_mode": {
    "name": "ipython",
    "version": 3
   },
   "file_extension": ".py",
   "mimetype": "text/x-python",
   "name": "python",
   "nbconvert_exporter": "python",
   "pygments_lexer": "ipython3",
   "version": "3.11.5"
  }
 },
 "nbformat": 4,
 "nbformat_minor": 2
}
