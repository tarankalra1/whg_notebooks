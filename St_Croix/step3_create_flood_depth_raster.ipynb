{
 "cells": [
  {
   "cell_type": "code",
   "execution_count": 1,
   "metadata": {},
   "outputs": [
    {
     "data": {
      "text/plain": [
       "'This code calculated to use a high res. topo tiff, setup matfile output and still water levels + SLR\\nto get flood depths in a tiff. Setup matfile output is interpolated on to the topo tiff to get total flood depths.\\nWritten by Taran Kalra, July 22, 2024'"
      ]
     },
     "execution_count": 1,
     "metadata": {},
     "output_type": "execute_result"
    }
   ],
   "source": [
    "\"\"\"This code calculated to use a high res. topo tiff, setup matfile output and still water levels + SLR\n",
    "to get flood depths in a tiff. Setup matfile output is interpolated on to the topo tiff to get total flood depths.\n",
    "flood depth = Total water level + wave setup - topo \n",
    "Written by Taran Kalra, July 22, 2024\"\"\"\n"
   ]
  },
  {
   "cell_type": "code",
   "execution_count": 2,
   "metadata": {},
   "outputs": [],
   "source": [
    "import pandas as pd \n",
    "import matplotlib.pyplot as plt\n",
    "import numpy as np\n",
    "from scipy.io import loadmat              \n",
    "import rioxarray\n",
    "import rasterio \n",
    "from create_raster import make_swan_raster_StructuredGrid"
   ]
  },
  {
   "cell_type": "code",
   "execution_count": 3,
   "metadata": {},
   "outputs": [],
   "source": [
    "# Grid specific inputs\n",
    "PR = 0 \n",
    "St_Croix = 1\n",
    "if(St_Croix):\n",
    "    gridsize = 10  # in meter\n",
    "    gridx = 483 #j direction + 1 from swan file \n",
    "    gridy = 278 #i direction + 1 from swan file \n",
    "    xMin = 389822 #this is your x origin in state plane m (or whatever you used)\n",
    "    yMin = 192378 #this is your y origin in state plane m (or whatever you used)\n",
    "            \n",
    "    EPSG = 32163 # EPSGS correspondign to USVI (ST.Croix )\n",
    "    angle_degrees = 0.0  # Angle of the grid\n",
    "if(PR):\n",
    "    gridsize = 5  # in meter\n",
    "    gridx = 1095 # direction + 1 from swan file \n",
    "    gridy = 1048 #i direction + 1 from swan file \n",
    "    xMin = 316520 #this is your x origin in state plane m (or whatever you used)\n",
    "    yMin = 247622 #this is your y origin in state plane m (or whatever you used)\n",
    "            \n",
    "    EPSG = 32161 # EPSGS correspondign to PR\n",
    "    angle_degrees = 41.6  # Angle of the grid\n",
    "    \n",
    "m_to_feet = 3.28084\n",
    "varname = \"Setup\""
   ]
  },
  {
   "cell_type": "code",
   "execution_count": 4,
   "metadata": {},
   "outputs": [],
   "source": [
    "cases = [\"1perc\", \"2perc\", \"5perc\", \"10perc\", \"20perc\", \"50perc\"]\n",
    "TWL = [    1.8,    1.71,    1.62,     1.5,       1.4,    1.32 ]\n",
    "scene = \"Degraded\" # \"Restored\"\n",
    "\n",
    "if (scene == \"Restored\"):\n",
    "    scenario = \"Restored\" # \"Degraded\"\n",
    "    scenario1= \"restored\" # degraded\"  \n",
    "    scenario_out = \"alt\"  # \"no_alt\"\n",
    "    gridfile = r'C:\\Users\\tkalra\\Desktop\\NFWP_Swan_coral_USVirgin\\69532_Coral_Reefs_St_Croix\\Grid\\restored_USVI_rasterio.tif'\n",
    "\n",
    "else:\n",
    "    scenario = \"Degraded\"\n",
    "    scenario1 = \"degraded\"\n",
    "    scenario_out = \"no_alt\"\n",
    "    gridfile = r'C:\\Users\\tkalra\\Desktop\\NFWP_Swan_coral_USVirgin\\69532_Coral_Reefs_St_Croix\\Grid\\degraded_USVI_rasterio.tif'\n",
    "\n",
    "# input file names\n",
    "input_directory = r'C:\\Users\\tkalra\\Desktop\\NFWP_Swan_coral_USVirgin\\69532_Coral_Reefs_St_Croix\\Swan_Runs'\n",
    "output_directory = r'C:\\Users\\tkalra\\Desktop\\NFWP_Swan_coral_USVirgin\\69532_Coral_Reefs_St_Croix\\Swan_final\\Flood_depth'"
   ]
  },
  {
   "cell_type": "code",
   "execution_count": 5,
   "metadata": {},
   "outputs": [
    {
     "name": "stdout",
     "output_type": "stream",
     "text": [
      "C:\\Users\\tkalra\\Desktop\\NFWP_Swan_coral_USVirgin\\69532_Coral_Reefs_St_Croix\\Swan_Runs\\Degraded_Reef\\1perc\\1perc_degraded_outs.mat\n",
      "C:\\Users\\tkalra\\Desktop\\NFWP_Swan_coral_USVirgin\\69532_Coral_Reefs_St_Croix\\Swan_final\\Flood_depth\\1perc_no_alt.tif\n",
      "raster finished\n",
      "Converting meters to feet\n",
      "<class 'xarray.core.dataarray.DataArray'>\n",
      "C:\\Users\\tkalra\\Desktop\\NFWP_Swan_coral_USVirgin\\69532_Coral_Reefs_St_Croix\\Swan_Runs\\Degraded_Reef\\2perc\\2perc_degraded_outs.mat\n",
      "C:\\Users\\tkalra\\Desktop\\NFWP_Swan_coral_USVirgin\\69532_Coral_Reefs_St_Croix\\Swan_final\\Flood_depth\\2perc_no_alt.tif\n",
      "raster finished\n",
      "Converting meters to feet\n",
      "<class 'xarray.core.dataarray.DataArray'>\n",
      "C:\\Users\\tkalra\\Desktop\\NFWP_Swan_coral_USVirgin\\69532_Coral_Reefs_St_Croix\\Swan_Runs\\Degraded_Reef\\5perc\\5perc_degraded_outs.mat\n",
      "C:\\Users\\tkalra\\Desktop\\NFWP_Swan_coral_USVirgin\\69532_Coral_Reefs_St_Croix\\Swan_final\\Flood_depth\\5perc_no_alt.tif\n",
      "raster finished\n",
      "Converting meters to feet\n",
      "<class 'xarray.core.dataarray.DataArray'>\n",
      "C:\\Users\\tkalra\\Desktop\\NFWP_Swan_coral_USVirgin\\69532_Coral_Reefs_St_Croix\\Swan_Runs\\Degraded_Reef\\10perc\\10perc_degraded_outs.mat\n",
      "C:\\Users\\tkalra\\Desktop\\NFWP_Swan_coral_USVirgin\\69532_Coral_Reefs_St_Croix\\Swan_final\\Flood_depth\\10perc_no_alt.tif\n",
      "raster finished\n",
      "Converting meters to feet\n",
      "<class 'xarray.core.dataarray.DataArray'>\n",
      "C:\\Users\\tkalra\\Desktop\\NFWP_Swan_coral_USVirgin\\69532_Coral_Reefs_St_Croix\\Swan_Runs\\Degraded_Reef\\20perc\\20perc_degraded_outs.mat\n",
      "C:\\Users\\tkalra\\Desktop\\NFWP_Swan_coral_USVirgin\\69532_Coral_Reefs_St_Croix\\Swan_final\\Flood_depth\\20perc_no_alt.tif\n",
      "raster finished\n",
      "Converting meters to feet\n",
      "<class 'xarray.core.dataarray.DataArray'>\n",
      "C:\\Users\\tkalra\\Desktop\\NFWP_Swan_coral_USVirgin\\69532_Coral_Reefs_St_Croix\\Swan_Runs\\Degraded_Reef\\50perc\\50perc_degraded_outs.mat\n",
      "C:\\Users\\tkalra\\Desktop\\NFWP_Swan_coral_USVirgin\\69532_Coral_Reefs_St_Croix\\Swan_final\\Flood_depth\\50perc_no_alt.tif\n",
      "raster finished\n",
      "Converting meters to feet\n",
      "<class 'xarray.core.dataarray.DataArray'>\n"
     ]
    }
   ],
   "source": [
    "# Loop over the filenames in the directory\n",
    "for i, case in enumerate(cases):\n",
    "    matfile = f'{input_directory}\\{scenario}_Reef\\{case}\\{case}_{scenario1}_outs.mat'\n",
    "    outfile = f'{output_directory}\\{case}_{scenario_out}.tif' \n",
    "\n",
    "    print(matfile)\n",
    "    print(outfile) \n",
    "    \n",
    "# Temporary filenames   \n",
    "    outfile_coarse_raster = 'tiffs_back\\output_raster_coarse_setup.tif'\n",
    "    outfile_refine_raster = 'tiffs_back\\output_raster_refine_setup.tif'    \n",
    "    \n",
    "    # Get the Hsig \n",
    "    make_swan_raster_StructuredGrid(outfile_coarse_raster, matfile, varname, EPSG, xMin, yMin, gridx, gridy, gridsize, angle_degrees)\n",
    "\n",
    "    # Grid file path specified \n",
    "    # this is the finer TIFF file \n",
    "    finer_xds = rioxarray.open_rasterio(gridfile) \n",
    "    topobathy = finer_xds.squeeze()\n",
    "    # Curate topbthy \n",
    "    topobathy = np.where(topobathy<-9999, np.nan, topobathy)\n",
    "\n",
    "    # Open this newly created tiff on the SWAN grid \n",
    "    coarse_data = rioxarray.open_rasterio(outfile_coarse_raster)    \n",
    "    # Interpolate wave setup from SWAN grid to the topobathy tiff (merged tiff)\n",
    "    ds_new = coarse_data.interp(y=finer_xds.y, x=finer_xds.x, method='nearest') # finer_xds that is on refined SWAN grid \n",
    "    ds_new = ds_new.squeeze() #This is now wave setup interpolated over the SWAN grid that is refined \n",
    "\n",
    "    # Fill the array to get flood depth, note TWL is variable for all scenarios\n",
    "    # ds_new is the wave setup interpolated the SWAN grid that is refined \n",
    "    ds_new = ds_new + TWL[i] - topobathy # topobathy is in meter from NOAA has reverse sign (ocean is negative, land is positive) \n",
    "    #ds_new = (ds_new + TWL[i])*0.0 - topobathy\n",
    " \n",
    "    print(\"Converting meters to feet\")\n",
    "    #ds_new = ds_new.squeeze()\n",
    "    ds_new = m_to_feet*ds_new # (ds_new is in feet)\n",
    "    print(type(ds_new))\n",
    "    ds_new.rio.to_raster(outfile_refine_raster) # save the new array in a raster before changing the profile of the raster \n",
    "\n",
    "    # Grid file used to copy the profile \n",
    "    with rasterio.open(gridfile, 'r') as src:\n",
    "        profile1 = src.profile.copy()\n",
    "\n",
    "    #   the profile in the output raster1 and then add feet in units \n",
    "    with rasterio.open(outfile_refine_raster) as src: \n",
    "        profile = src.profile\n",
    "        profile = profile1 \n",
    "        array = src.read(1)\n",
    "    # Update the profile to change the units from meters to feet    \n",
    "    profile['units'] = 'Feet'\n",
    "\n",
    "    # Save the updated array to a new TIFF file\n",
    "    with rasterio.open(outfile, 'w+', **profile) as dst:\n",
    "        dst.write(ds_new, 1)\n",
    "        dst.update_tags(units=profile['units'])\n",
    "\n",
    "    del outfile_refine_raster, outfile_coarse_raster"
   ]
  },
  {
   "cell_type": "code",
   "execution_count": 6,
   "metadata": {},
   "outputs": [
    {
     "name": "stdout",
     "output_type": "stream",
     "text": [
      "-74.83735\n",
      "64.71292\n"
     ]
    }
   ],
   "source": [
    "print(np.nanmin(ds_new))\n",
    "print(np.nanmax(ds_new))"
   ]
  },
  {
   "cell_type": "code",
   "execution_count": 7,
   "metadata": {},
   "outputs": [],
   "source": [
    "\n",
    "#fig = plt.figure(figsize=(15,10))\n",
    "#ax = fig.add_subplot(1,1,1)\n",
    "#z1_plot = ax.pcolormesh(fine_data.x.values, fine_data.y.values, array, cmap='viridis', vmin=-20, vmax=20)\n",
    "#plt.colorbar(z1_plot)"
   ]
  }
 ],
 "metadata": {
  "kernelspec": {
   "display_name": "Python 3",
   "language": "python",
   "name": "python3"
  },
  "language_info": {
   "codemirror_mode": {
    "name": "ipython",
    "version": 3
   },
   "file_extension": ".py",
   "mimetype": "text/x-python",
   "name": "python",
   "nbconvert_exporter": "python",
   "pygments_lexer": "ipython3",
   "version": "3.11.5"
  }
 },
 "nbformat": 4,
 "nbformat_minor": 2
}
