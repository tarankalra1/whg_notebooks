{
 "cells": [
  {
   "cell_type": "code",
   "execution_count": 1,
   "metadata": {},
   "outputs": [
    {
     "data": {
      "text/plain": [
       "'This code calculated to use a high res. topo tiff, setup matfile output and still water levels + SLR\\nto get flood depths in a tiff. Setup matfile output is interpolated on to the topo tiff to get total flood depths.\\nWritten by Taran Kalra, July 22, 2024'"
      ]
     },
     "execution_count": 1,
     "metadata": {},
     "output_type": "execute_result"
    }
   ],
   "source": [
    "\"\"\"This code calculated to use a high res. topo tiff, setup matfile output and still water levels + SLR\n",
    "to get flood depths in a tiff. Setup matfile output is interpolated on to the topo tiff to get total flood depths.\n",
    "Written by Taran Kalra, July 22, 2024\"\"\"\n"
   ]
  },
  {
   "cell_type": "code",
   "execution_count": 5,
   "metadata": {},
   "outputs": [
    {
     "name": "stdout",
     "output_type": "stream",
     "text": [
      "3.11.5\n"
     ]
    }
   ],
   "source": [
    "from platform import python_version\n",
    "\n",
    "print(python_version())"
   ]
  },
  {
   "cell_type": "code",
   "execution_count": 2,
   "metadata": {},
   "outputs": [],
   "source": [
    "import pandas as pd \n",
    "import matplotlib.pyplot as plt\n",
    "import numpy as np\n",
    "from scipy.io import loadmat              \n",
    "import rioxarray\n",
    "import rasterio as rio\n",
    "from create_raster import make_swan_raster_StructuredGrid"
   ]
  },
  {
   "cell_type": "code",
   "execution_count": 3,
   "metadata": {},
   "outputs": [],
   "source": [
    "cases = [\"1perc\"]#, \"2perc\", \"5perc\", \"10perc\", \"20perc\", \"50perc\"]\n",
    "TWL = [    1.5]#,      1.5,    1.5,     1.5,       1.5,  1.5 ]\n",
    "scenario = \"Restored\"\n",
    "scenario_out = \"no_alt4\"\n",
    "\n",
    "outfile  = 'test.tif'\n",
    "\n",
    "# input file names\n",
    "gridfile = r'C:\\Users\\tkalra\\Desktop\\NFWP_Swan_coral_USVirgin\\69532_Coral_Reefs_St_Croix\\Grid\\restored_USVI_rasterio.tif'\n",
    "input_directory = r'C:\\Users\\tkalra\\Desktop\\NFWP_Swan_coral_USVirgin\\69532_Coral_Reefs_St_Croix\\Swan_Runs'\n",
    "output_directory = r'C:\\Users\\tkalra\\Desktop\\NFWP_Swan_coral_USVirgin\\69532_Coral_Reefs_St_Croix\\Swan_Output_proc\\Flood_depth\\1perc_no_alt5.tif'"
   ]
  },
  {
   "cell_type": "code",
   "execution_count": 4,
   "metadata": {},
   "outputs": [
    {
     "ename": "KeyboardInterrupt",
     "evalue": "",
     "output_type": "error",
     "traceback": [
      "\u001b[1;31m---------------------------------------------------------------------------\u001b[0m",
      "\u001b[1;31mKeyboardInterrupt\u001b[0m                         Traceback (most recent call last)",
      "Cell \u001b[1;32mIn[4], line 25\u001b[0m\n\u001b[0;32m     22\u001b[0m gdf \u001b[38;5;241m=\u001b[39m gpd\u001b[38;5;241m.\u001b[39mGeoDataFrame\u001b[38;5;241m.\u001b[39mfrom_features(\u001b[38;5;28mlist\u001b[39m(results))\n\u001b[0;32m     24\u001b[0m \u001b[38;5;66;03m# Save the GeoDataFrame to a shapefile\u001b[39;00m\n\u001b[1;32m---> 25\u001b[0m \u001b[43mgdf\u001b[49m\u001b[38;5;241;43m.\u001b[39;49m\u001b[43mto_file\u001b[49m\u001b[43m(\u001b[49m\u001b[38;5;124;43m'\u001b[39;49m\u001b[38;5;124;43moutput.shp\u001b[39;49m\u001b[38;5;124;43m'\u001b[39;49m\u001b[43m)\u001b[49m\n",
      "File \u001b[1;32mc:\\Users\\tkalra\\AppData\\Local\\anaconda3\\envs\\taran_check\\Lib\\site-packages\\geopandas\\geodataframe.py:1264\u001b[0m, in \u001b[0;36mGeoDataFrame.to_file\u001b[1;34m(self, filename, driver, schema, index, **kwargs)\u001b[0m\n\u001b[0;32m   1173\u001b[0m \u001b[38;5;250m\u001b[39m\u001b[38;5;124;03m\"\"\"Write the ``GeoDataFrame`` to a file.\u001b[39;00m\n\u001b[0;32m   1174\u001b[0m \n\u001b[0;32m   1175\u001b[0m \u001b[38;5;124;03mBy default, an ESRI shapefile is written, but any OGR data source\u001b[39;00m\n\u001b[1;32m   (...)\u001b[0m\n\u001b[0;32m   1260\u001b[0m \n\u001b[0;32m   1261\u001b[0m \u001b[38;5;124;03m\"\"\"\u001b[39;00m\n\u001b[0;32m   1262\u001b[0m \u001b[38;5;28;01mfrom\u001b[39;00m \u001b[38;5;21;01mgeopandas\u001b[39;00m\u001b[38;5;21;01m.\u001b[39;00m\u001b[38;5;21;01mio\u001b[39;00m\u001b[38;5;21;01m.\u001b[39;00m\u001b[38;5;21;01mfile\u001b[39;00m \u001b[38;5;28;01mimport\u001b[39;00m _to_file\n\u001b[1;32m-> 1264\u001b[0m \u001b[43m_to_file\u001b[49m\u001b[43m(\u001b[49m\u001b[38;5;28;43mself\u001b[39;49m\u001b[43m,\u001b[49m\u001b[43m \u001b[49m\u001b[43mfilename\u001b[49m\u001b[43m,\u001b[49m\u001b[43m \u001b[49m\u001b[43mdriver\u001b[49m\u001b[43m,\u001b[49m\u001b[43m \u001b[49m\u001b[43mschema\u001b[49m\u001b[43m,\u001b[49m\u001b[43m \u001b[49m\u001b[43mindex\u001b[49m\u001b[43m,\u001b[49m\u001b[43m \u001b[49m\u001b[38;5;241;43m*\u001b[39;49m\u001b[38;5;241;43m*\u001b[39;49m\u001b[43mkwargs\u001b[49m\u001b[43m)\u001b[49m\n",
      "File \u001b[1;32mc:\\Users\\tkalra\\AppData\\Local\\anaconda3\\envs\\taran_check\\Lib\\site-packages\\geopandas\\io\\file.py:612\u001b[0m, in \u001b[0;36m_to_file\u001b[1;34m(df, filename, driver, schema, index, mode, crs, engine, **kwargs)\u001b[0m\n\u001b[0;32m    609\u001b[0m     \u001b[38;5;28;01mraise\u001b[39;00m \u001b[38;5;167;01mValueError\u001b[39;00m(\u001b[38;5;124mf\u001b[39m\u001b[38;5;124m\"\u001b[39m\u001b[38;5;124m'\u001b[39m\u001b[38;5;124mmode\u001b[39m\u001b[38;5;124m'\u001b[39m\u001b[38;5;124m should be one of \u001b[39m\u001b[38;5;124m'\u001b[39m\u001b[38;5;124mw\u001b[39m\u001b[38;5;124m'\u001b[39m\u001b[38;5;124m or \u001b[39m\u001b[38;5;124m'\u001b[39m\u001b[38;5;124ma\u001b[39m\u001b[38;5;124m'\u001b[39m\u001b[38;5;124m, got \u001b[39m\u001b[38;5;124m'\u001b[39m\u001b[38;5;132;01m{\u001b[39;00mmode\u001b[38;5;132;01m}\u001b[39;00m\u001b[38;5;124m'\u001b[39m\u001b[38;5;124m instead\u001b[39m\u001b[38;5;124m\"\u001b[39m)\n\u001b[0;32m    611\u001b[0m \u001b[38;5;28;01mif\u001b[39;00m engine \u001b[38;5;241m==\u001b[39m \u001b[38;5;124m\"\u001b[39m\u001b[38;5;124mfiona\u001b[39m\u001b[38;5;124m\"\u001b[39m:\n\u001b[1;32m--> 612\u001b[0m     \u001b[43m_to_file_fiona\u001b[49m\u001b[43m(\u001b[49m\u001b[43mdf\u001b[49m\u001b[43m,\u001b[49m\u001b[43m \u001b[49m\u001b[43mfilename\u001b[49m\u001b[43m,\u001b[49m\u001b[43m \u001b[49m\u001b[43mdriver\u001b[49m\u001b[43m,\u001b[49m\u001b[43m \u001b[49m\u001b[43mschema\u001b[49m\u001b[43m,\u001b[49m\u001b[43m \u001b[49m\u001b[43mcrs\u001b[49m\u001b[43m,\u001b[49m\u001b[43m \u001b[49m\u001b[43mmode\u001b[49m\u001b[43m,\u001b[49m\u001b[43m \u001b[49m\u001b[38;5;241;43m*\u001b[39;49m\u001b[38;5;241;43m*\u001b[39;49m\u001b[43mkwargs\u001b[49m\u001b[43m)\u001b[49m\n\u001b[0;32m    613\u001b[0m \u001b[38;5;28;01melif\u001b[39;00m engine \u001b[38;5;241m==\u001b[39m \u001b[38;5;124m\"\u001b[39m\u001b[38;5;124mpyogrio\u001b[39m\u001b[38;5;124m\"\u001b[39m:\n\u001b[0;32m    614\u001b[0m     _to_file_pyogrio(df, filename, driver, schema, crs, mode, \u001b[38;5;241m*\u001b[39m\u001b[38;5;241m*\u001b[39mkwargs)\n",
      "File \u001b[1;32mc:\\Users\\tkalra\\AppData\\Local\\anaconda3\\envs\\taran_check\\Lib\\site-packages\\geopandas\\io\\file.py:641\u001b[0m, in \u001b[0;36m_to_file_fiona\u001b[1;34m(df, filename, driver, schema, crs, mode, **kwargs)\u001b[0m\n\u001b[0;32m    637\u001b[0m     crs_wkt \u001b[38;5;241m=\u001b[39m crs\u001b[38;5;241m.\u001b[39mto_wkt(\u001b[38;5;124m\"\u001b[39m\u001b[38;5;124mWKT1_GDAL\u001b[39m\u001b[38;5;124m\"\u001b[39m)\n\u001b[0;32m    638\u001b[0m \u001b[38;5;28;01mwith\u001b[39;00m fiona\u001b[38;5;241m.\u001b[39mopen(\n\u001b[0;32m    639\u001b[0m     filename, mode\u001b[38;5;241m=\u001b[39mmode, driver\u001b[38;5;241m=\u001b[39mdriver, crs_wkt\u001b[38;5;241m=\u001b[39mcrs_wkt, schema\u001b[38;5;241m=\u001b[39mschema, \u001b[38;5;241m*\u001b[39m\u001b[38;5;241m*\u001b[39mkwargs\n\u001b[0;32m    640\u001b[0m ) \u001b[38;5;28;01mas\u001b[39;00m colxn:\n\u001b[1;32m--> 641\u001b[0m     \u001b[43mcolxn\u001b[49m\u001b[38;5;241;43m.\u001b[39;49m\u001b[43mwriterecords\u001b[49m\u001b[43m(\u001b[49m\u001b[43mdf\u001b[49m\u001b[38;5;241;43m.\u001b[39;49m\u001b[43miterfeatures\u001b[49m\u001b[43m(\u001b[49m\u001b[43m)\u001b[49m\u001b[43m)\u001b[49m\n",
      "File \u001b[1;32mc:\\Users\\tkalra\\AppData\\Local\\anaconda3\\envs\\taran_check\\Lib\\site-packages\\fiona\\collection.py:558\u001b[0m, in \u001b[0;36mCollection.writerecords\u001b[1;34m(self, records)\u001b[0m\n\u001b[0;32m    556\u001b[0m \u001b[38;5;28;01mif\u001b[39;00m \u001b[38;5;28mself\u001b[39m\u001b[38;5;241m.\u001b[39mmode \u001b[38;5;129;01mnot\u001b[39;00m \u001b[38;5;129;01min\u001b[39;00m (\u001b[38;5;124m\"\u001b[39m\u001b[38;5;124ma\u001b[39m\u001b[38;5;124m\"\u001b[39m, \u001b[38;5;124m\"\u001b[39m\u001b[38;5;124mw\u001b[39m\u001b[38;5;124m\"\u001b[39m):\n\u001b[0;32m    557\u001b[0m     \u001b[38;5;28;01mraise\u001b[39;00m \u001b[38;5;167;01mOSError\u001b[39;00m(\u001b[38;5;124m\"\u001b[39m\u001b[38;5;124mcollection not open for writing\u001b[39m\u001b[38;5;124m\"\u001b[39m)\n\u001b[1;32m--> 558\u001b[0m \u001b[38;5;28;43mself\u001b[39;49m\u001b[38;5;241;43m.\u001b[39;49m\u001b[43msession\u001b[49m\u001b[38;5;241;43m.\u001b[39;49m\u001b[43mwriterecs\u001b[49m\u001b[43m(\u001b[49m\u001b[43mrecords\u001b[49m\u001b[43m,\u001b[49m\u001b[43m \u001b[49m\u001b[38;5;28;43mself\u001b[39;49m\u001b[43m)\u001b[49m\n\u001b[0;32m    559\u001b[0m \u001b[38;5;28mself\u001b[39m\u001b[38;5;241m.\u001b[39m_len \u001b[38;5;241m=\u001b[39m \u001b[38;5;28mself\u001b[39m\u001b[38;5;241m.\u001b[39msession\u001b[38;5;241m.\u001b[39mget_length()\n\u001b[0;32m    560\u001b[0m \u001b[38;5;28mself\u001b[39m\u001b[38;5;241m.\u001b[39m_bounds \u001b[38;5;241m=\u001b[39m \u001b[38;5;28;01mNone\u001b[39;00m\n",
      "File \u001b[1;32mfiona\\\\ogrext.pyx:1392\u001b[0m, in \u001b[0;36mfiona.ogrext.WritingSession.writerecs\u001b[1;34m()\u001b[0m\n",
      "File \u001b[1;32mc:\\Users\\tkalra\\AppData\\Local\\anaconda3\\envs\\taran_check\\Lib\\site-packages\\geopandas\\geodataframe.py:951\u001b[0m, in \u001b[0;36mGeoDataFrame.iterfeatures\u001b[1;34m(self, na, show_bbox, drop_id)\u001b[0m\n\u001b[0;32m    949\u001b[0m feature[\u001b[38;5;124m\"\u001b[39m\u001b[38;5;124mtype\u001b[39m\u001b[38;5;124m\"\u001b[39m] \u001b[38;5;241m=\u001b[39m \u001b[38;5;124m\"\u001b[39m\u001b[38;5;124mFeature\u001b[39m\u001b[38;5;124m\"\u001b[39m\n\u001b[0;32m    950\u001b[0m feature[\u001b[38;5;124m\"\u001b[39m\u001b[38;5;124mproperties\u001b[39m\u001b[38;5;124m\"\u001b[39m] \u001b[38;5;241m=\u001b[39m properties_items\n\u001b[1;32m--> 951\u001b[0m feature[\u001b[38;5;124m\"\u001b[39m\u001b[38;5;124mgeometry\u001b[39m\u001b[38;5;124m\"\u001b[39m] \u001b[38;5;241m=\u001b[39m \u001b[43mmapping\u001b[49m\u001b[43m(\u001b[49m\u001b[43mgeom\u001b[49m\u001b[43m)\u001b[49m \u001b[38;5;28;01mif\u001b[39;00m geom \u001b[38;5;28;01melse\u001b[39;00m \u001b[38;5;28;01mNone\u001b[39;00m\n\u001b[0;32m    953\u001b[0m \u001b[38;5;28;01mif\u001b[39;00m show_bbox:\n\u001b[0;32m    954\u001b[0m     feature[\u001b[38;5;124m\"\u001b[39m\u001b[38;5;124mbbox\u001b[39m\u001b[38;5;124m\"\u001b[39m] \u001b[38;5;241m=\u001b[39m geom\u001b[38;5;241m.\u001b[39mbounds \u001b[38;5;28;01mif\u001b[39;00m geom \u001b[38;5;28;01melse\u001b[39;00m \u001b[38;5;28;01mNone\u001b[39;00m\n",
      "File \u001b[1;32mc:\\Users\\tkalra\\AppData\\Local\\anaconda3\\envs\\taran_check\\Lib\\site-packages\\shapely\\geometry\\geo.py:136\u001b[0m, in \u001b[0;36mmapping\u001b[1;34m(ob)\u001b[0m\n\u001b[0;32m    116\u001b[0m \u001b[38;5;28;01mdef\u001b[39;00m \u001b[38;5;21mmapping\u001b[39m(ob):\n\u001b[0;32m    117\u001b[0m \u001b[38;5;250m    \u001b[39m\u001b[38;5;124;03m\"\"\"\u001b[39;00m\n\u001b[0;32m    118\u001b[0m \u001b[38;5;124;03m    Returns a GeoJSON-like mapping from a Geometry or any\u001b[39;00m\n\u001b[0;32m    119\u001b[0m \u001b[38;5;124;03m    object which implements __geo_interface__\u001b[39;00m\n\u001b[1;32m   (...)\u001b[0m\n\u001b[0;32m    134\u001b[0m \u001b[38;5;124;03m    {'type': 'Point', 'coordinates': (0.0, 0.0)}\u001b[39;00m\n\u001b[0;32m    135\u001b[0m \u001b[38;5;124;03m    \"\"\"\u001b[39;00m\n\u001b[1;32m--> 136\u001b[0m     \u001b[38;5;28;01mreturn\u001b[39;00m \u001b[43mob\u001b[49m\u001b[38;5;241;43m.\u001b[39;49m\u001b[43m__geo_interface__\u001b[49m\n",
      "File \u001b[1;32mc:\\Users\\tkalra\\AppData\\Local\\anaconda3\\envs\\taran_check\\Lib\\site-packages\\shapely\\geometry\\polygon.py:265\u001b[0m, in \u001b[0;36mPolygon.__geo_interface__\u001b[1;34m(self)\u001b[0m\n\u001b[0;32m    263\u001b[0m     coords \u001b[38;5;241m=\u001b[39m []\n\u001b[0;32m    264\u001b[0m \u001b[38;5;28;01melse\u001b[39;00m:\n\u001b[1;32m--> 265\u001b[0m     coords \u001b[38;5;241m=\u001b[39m [\u001b[38;5;28mtuple\u001b[39m(\u001b[38;5;28;43mself\u001b[39;49m\u001b[38;5;241;43m.\u001b[39;49m\u001b[43mexterior\u001b[49m\u001b[38;5;241;43m.\u001b[39;49m\u001b[43mcoords\u001b[49m)]\n\u001b[0;32m    266\u001b[0m     \u001b[38;5;28;01mfor\u001b[39;00m hole \u001b[38;5;129;01min\u001b[39;00m \u001b[38;5;28mself\u001b[39m\u001b[38;5;241m.\u001b[39minteriors:\n\u001b[0;32m    267\u001b[0m         coords\u001b[38;5;241m.\u001b[39mappend(\u001b[38;5;28mtuple\u001b[39m(hole\u001b[38;5;241m.\u001b[39mcoords))\n",
      "File \u001b[1;32mc:\\Users\\tkalra\\AppData\\Local\\anaconda3\\envs\\taran_check\\Lib\\site-packages\\shapely\\geometry\\base.py:206\u001b[0m, in \u001b[0;36mBaseGeometry.coords\u001b[1;34m(self)\u001b[0m\n\u001b[0;32m    203\u001b[0m \u001b[38;5;129m@property\u001b[39m\n\u001b[0;32m    204\u001b[0m \u001b[38;5;28;01mdef\u001b[39;00m \u001b[38;5;21mcoords\u001b[39m(\u001b[38;5;28mself\u001b[39m):\n\u001b[0;32m    205\u001b[0m \u001b[38;5;250m    \u001b[39m\u001b[38;5;124;03m\"\"\"Access to geometry's coordinates (CoordinateSequence)\"\"\"\u001b[39;00m\n\u001b[1;32m--> 206\u001b[0m     coords_array \u001b[38;5;241m=\u001b[39m shapely\u001b[38;5;241m.\u001b[39mget_coordinates(\u001b[38;5;28mself\u001b[39m, include_z\u001b[38;5;241m=\u001b[39m\u001b[38;5;28;43mself\u001b[39;49m\u001b[38;5;241;43m.\u001b[39;49m\u001b[43mhas_z\u001b[49m)\n\u001b[0;32m    207\u001b[0m     \u001b[38;5;28;01mreturn\u001b[39;00m CoordinateSequence(coords_array)\n",
      "File \u001b[1;32mc:\\Users\\tkalra\\AppData\\Local\\anaconda3\\envs\\taran_check\\Lib\\site-packages\\shapely\\geometry\\base.py:607\u001b[0m, in \u001b[0;36mBaseGeometry.has_z\u001b[1;34m(self)\u001b[0m\n\u001b[0;32m    603\u001b[0m \u001b[38;5;129m@property\u001b[39m\n\u001b[0;32m    604\u001b[0m \u001b[38;5;28;01mdef\u001b[39;00m \u001b[38;5;21mhas_z\u001b[39m(\u001b[38;5;28mself\u001b[39m):\n\u001b[0;32m    605\u001b[0m \u001b[38;5;250m    \u001b[39m\u001b[38;5;124;03m\"\"\"True if the geometry's coordinate sequence(s) have z values (are\u001b[39;00m\n\u001b[0;32m    606\u001b[0m \u001b[38;5;124;03m    3-dimensional)\"\"\"\u001b[39;00m\n\u001b[1;32m--> 607\u001b[0m     \u001b[38;5;28;01mreturn\u001b[39;00m \u001b[38;5;28mbool\u001b[39m(\u001b[43mshapely\u001b[49m\u001b[38;5;241;43m.\u001b[39;49m\u001b[43mhas_z\u001b[49m\u001b[43m(\u001b[49m\u001b[38;5;28;43mself\u001b[39;49m\u001b[43m)\u001b[49m)\n",
      "File \u001b[1;32mc:\\Users\\tkalra\\AppData\\Local\\anaconda3\\envs\\taran_check\\Lib\\site-packages\\shapely\\decorators.py:77\u001b[0m, in \u001b[0;36mmultithreading_enabled.<locals>.wrapped\u001b[1;34m(*args, **kwargs)\u001b[0m\n\u001b[0;32m     75\u001b[0m     \u001b[38;5;28;01mfor\u001b[39;00m arr \u001b[38;5;129;01min\u001b[39;00m array_args:\n\u001b[0;32m     76\u001b[0m         arr\u001b[38;5;241m.\u001b[39mflags\u001b[38;5;241m.\u001b[39mwriteable \u001b[38;5;241m=\u001b[39m \u001b[38;5;28;01mFalse\u001b[39;00m\n\u001b[1;32m---> 77\u001b[0m     \u001b[38;5;28;01mreturn\u001b[39;00m \u001b[43mfunc\u001b[49m\u001b[43m(\u001b[49m\u001b[38;5;241;43m*\u001b[39;49m\u001b[43margs\u001b[49m\u001b[43m,\u001b[49m\u001b[43m \u001b[49m\u001b[38;5;241;43m*\u001b[39;49m\u001b[38;5;241;43m*\u001b[39;49m\u001b[43mkwargs\u001b[49m\u001b[43m)\u001b[49m\n\u001b[0;32m     78\u001b[0m \u001b[38;5;28;01mfinally\u001b[39;00m:\n\u001b[0;32m     79\u001b[0m     \u001b[38;5;28;01mfor\u001b[39;00m arr, old_flag \u001b[38;5;129;01min\u001b[39;00m \u001b[38;5;28mzip\u001b[39m(array_args, old_flags):\n",
      "File \u001b[1;32mc:\\Users\\tkalra\\AppData\\Local\\anaconda3\\envs\\taran_check\\Lib\\site-packages\\shapely\\predicates.py:69\u001b[0m, in \u001b[0;36mhas_z\u001b[1;34m(geometry, **kwargs)\u001b[0m\n\u001b[0;32m     41\u001b[0m \u001b[38;5;129m@multithreading_enabled\u001b[39m\n\u001b[0;32m     42\u001b[0m \u001b[38;5;28;01mdef\u001b[39;00m \u001b[38;5;21mhas_z\u001b[39m(geometry, \u001b[38;5;241m*\u001b[39m\u001b[38;5;241m*\u001b[39mkwargs):\n\u001b[0;32m     43\u001b[0m \u001b[38;5;250m    \u001b[39m\u001b[38;5;124;03m\"\"\"Returns True if a geometry has a Z coordinate.\u001b[39;00m\n\u001b[0;32m     44\u001b[0m \n\u001b[0;32m     45\u001b[0m \u001b[38;5;124;03m    Note that this function returns False if the (first) Z coordinate equals NaN or\u001b[39;00m\n\u001b[1;32m   (...)\u001b[0m\n\u001b[0;32m     67\u001b[0m \u001b[38;5;124;03m    False\u001b[39;00m\n\u001b[0;32m     68\u001b[0m \u001b[38;5;124;03m    \"\"\"\u001b[39;00m\n\u001b[1;32m---> 69\u001b[0m     \u001b[38;5;28;01mreturn\u001b[39;00m \u001b[43mlib\u001b[49m\u001b[38;5;241;43m.\u001b[39;49m\u001b[43mhas_z\u001b[49m\u001b[43m(\u001b[49m\u001b[43mgeometry\u001b[49m\u001b[43m,\u001b[49m\u001b[43m \u001b[49m\u001b[38;5;241;43m*\u001b[39;49m\u001b[38;5;241;43m*\u001b[39;49m\u001b[43mkwargs\u001b[49m\u001b[43m)\u001b[49m\n",
      "\u001b[1;31mKeyboardInterrupt\u001b[0m: "
     ]
    }
   ],
   "source": [
    "import rasterio\n",
    "from rasterio.features import shapes\n",
    "import geopandas as gpd\n",
    "\n",
    "input_file = r'C:\\Users\\tkalra\\Desktop\\NFWP_Swan_coral_USVirgin\\69532_Coral_Reefs_St_Croix\\Swan_Output_proc\\Flood_depth\\1perc_no_alt5.tif'# Open the raster TIFF file\n",
    "with rasterio.open(input_file) as src:\n",
    "    # Read the raster data\n",
    "    image = src.read(1)\n",
    "    # Get the raster transform\n",
    "    transform = src.transform\n",
    "\n",
    "# Get the shapes from the raster data\n",
    "results = (\n",
    "    {'properties': {'raster_val': v}, 'geometry': s}\n",
    "    for i, (s, v) \n",
    "    in enumerate(\n",
    "        shapes(image, mask=None, transform=transform)\n",
    "    )\n",
    ")\n",
    "\n",
    "# Create a GeoDataFrame from the shapes\n",
    "gdf = gpd.GeoDataFrame.from_features(list(results))\n",
    "\n",
    "# Save the GeoDataFrame to a shapefile\n",
    "gdf.to_file('output.shp')"
   ]
  },
  {
   "cell_type": "code",
   "execution_count": null,
   "metadata": {},
   "outputs": [],
   "source": []
  },
  {
   "cell_type": "code",
   "execution_count": null,
   "metadata": {},
   "outputs": [],
   "source": []
  },
  {
   "cell_type": "code",
   "execution_count": null,
   "metadata": {},
   "outputs": [],
   "source": [
    "# Loop over the filenames in the directory\n",
    "for i, case in enumerate(cases):\n",
    "    matfile = f'{input_directory}\\{scenario}_Reef\\{case}\\{case}_restored_outs.mat'\n",
    "    outfile = f'{output_directory}\\{case}_{scenario_out}.tif' \n",
    "\n",
    "    print(matfile)\n",
    "    print(outfile) \n",
    "    \n",
    "# Temporary filenames   \n",
    "    outfile_coarse_raster = 'output_raster_coarse_Hsig4.tif'\n",
    "    outfile_refine_raster = 'output_raster_refine_Hsig4.tif'    \n",
    "    \n",
    "    # Get the Hsig \n",
    "    make_swan_raster_StructuredGrid(outfile_coarse_raster, matfile, varname, EPSG, xMin, yMin, gridx, gridy, gridsize, angle_degrees)\n",
    "\n",
    "    # Grid file path specified \n",
    "    # this is the finer TIFF file \n",
    "    finer_xds = rioxarray.open_rasterio(gridfile) \n",
    "    topobathy = finer_xds.squeeze()\n",
    "    # Curate topbthy \n",
    "    topobathy = np.where(topobathy<-9999, np.nan, topobathy)\n",
    "\n",
    "    # Open this newly created tiff on the SWAN grid \n",
    "    coarse_data = rioxarray.open_rasterio(outfile_coarse_raster)    \n",
    "    # Interpolate wave setup from SWAN grid to the topobathy tiff (merged tiff)\n",
    "    ds_new = coarse_data.interp(y=finer_xds.y, x=finer_xds.x, method='nearest')\n",
    "    ds_new = ds_new.squeeze() #This is now wave setup interpolated over the SWAN grid\n",
    "\n",
    "    # Fill the array to get flood depth, note TWL is variable for all scenarios\n",
    "    #print(TWL[i])\n",
    "    #ds_new = ds_new #+ TWL[i] - topobathy # topobathy is in meter from NOAA has reverse sign (ocean is negative, land is positive) \n",
    "    ds_new = topobathy \n",
    "    print(\"Converting meters to feet\")\n",
    "    ds_new = m_to_feet*ds_new # (ds_new is in feet)\n",
    "    \n",
    "    ds_new.rio.to_raster(outfile_refine_raster) # save the new array in a raster before changing the profile of the raster \n",
    "\n",
    "    # Grid file used to copy the profile \n",
    "    with rasterio.open(gridfile, 'r') as src:\n",
    "        profile1 = src.profile.copy()\n",
    "\n",
    "    #   the profile in the output raster1 and then add feet in units \n",
    "    with rasterio.open(outfile_refine_raster) as src: \n",
    "        profile = src.profile\n",
    "        profile = profile1 \n",
    "        array = src.read(1)\n",
    "    # Update the profile to change the units from meters to feet    \n",
    "    profile['units'] = 'Feet'\n",
    "\n",
    "    # Save the updated array to a new TIFF file\n",
    "    with rasterio.open(outfile, 'w+', **profile) as dst:\n",
    "        dst.write(ds_new, 1)\n",
    "        dst.update_tags(units=profile['units'])\n",
    "\n",
    "    del outfile_refine_raster, outfile_coarse_raster"
   ]
  },
  {
   "cell_type": "code",
   "execution_count": null,
   "metadata": {},
   "outputs": [],
   "source": [
    "print(np.nanmin(ds_new))\n",
    "print(np.nanmax(ds_new))"
   ]
  },
  {
   "cell_type": "code",
   "execution_count": null,
   "metadata": {},
   "outputs": [],
   "source": [
    "\n",
    "#fig = plt.figure(figsize=(15,10))\n",
    "#ax = fig.add_subplot(1,1,1)\n",
    "#z1_plot = ax.pcolormesh(fine_data.x.values, fine_data.y.values, array, cmap='viridis', vmin=-20, vmax=20)\n",
    "#plt.colorbar(z1_plot)"
   ]
  },
  {
   "cell_type": "code",
   "execution_count": null,
   "metadata": {},
   "outputs": [],
   "source": []
  },
  {
   "cell_type": "code",
   "execution_count": null,
   "metadata": {},
   "outputs": [],
   "source": [
    "res = finer_xds.rio.resolution()\n",
    "print(res)\n",
    "fine_grid = finer_xds.squeeze()\n",
    "print(np.shape(fine_grid))\n",
    "finer_xds\n"
   ]
  }
 ],
 "metadata": {
  "kernelspec": {
   "display_name": "Python 3",
   "language": "python",
   "name": "python3"
  },
  "language_info": {
   "codemirror_mode": {
    "name": "ipython",
    "version": 3
   },
   "file_extension": ".py",
   "mimetype": "text/x-python",
   "name": "python",
   "nbconvert_exporter": "python",
   "pygments_lexer": "ipython3",
   "version": "3.11.5"
  }
 },
 "nbformat": 4,
 "nbformat_minor": 2
}
