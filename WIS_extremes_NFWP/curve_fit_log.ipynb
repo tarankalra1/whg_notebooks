{
 "cells": [
  {
   "cell_type": "code",
   "execution_count": 1,
   "metadata": {},
   "outputs": [],
   "source": [
    "\n",
    "import pandas as pd \n",
    "import matplotlib.pyplot as plt\n",
    "import numpy as np\n",
    "import numpy as np\n",
    "from scipy.optimize import curve_fit"
   ]
  },
  {
   "cell_type": "code",
   "execution_count": 2,
   "metadata": {},
   "outputs": [
    {
     "data": {
      "text/plain": [
       "'c:\\\\Users\\\\tkalra\\\\Desktop\\\\Broad_canal\\\\post_process'"
      ]
     },
     "execution_count": 2,
     "metadata": {},
     "output_type": "execute_result"
    }
   ],
   "source": [
    "\n",
    "\n",
    "# Define the logarithmic function\n",
    "def log_func(x, a, b):\n",
    "    return a * np.log(x) + b\n"
   ]
  },
  {
   "cell_type": "code",
   "execution_count": null,
   "metadata": {},
   "outputs": [],
   "source": [
    "\n",
    "# Load your data (AEP and extreme values)\n",
    "AEP = [...]  # array of AEP values\n",
    "\n",
    "eturn_period=[2, 5, 10, 20, 50, 100],\n",
    "extreme_values = [...]  # array of extreme values\n",
    "\n",
    "# Perform the curve fit\n",
    "popt, pcov = curve_fit(log_func, AEP, extreme_values)\n",
    "\n",
    "# Print the fitted parameters\n",
    "print(\"Fitted parameters: a =\", popt[0], \"b =\", popt[1])\n"
   ]
  }
 ],
 "metadata": {
  "kernelspec": {
   "display_name": "Python 3",
   "language": "python",
   "name": "python3"
  },
  "language_info": {
   "codemirror_mode": {
    "name": "ipython",
    "version": 3
   },
   "file_extension": ".py",
   "mimetype": "text/x-python",
   "name": "python",
   "nbconvert_exporter": "python",
   "pygments_lexer": "ipython3",
   "version": "3.12.4"
  }
 },
 "nbformat": 4,
 "nbformat_minor": 2
}
