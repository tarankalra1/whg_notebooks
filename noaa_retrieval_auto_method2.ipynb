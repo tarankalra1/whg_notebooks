{
 "cells": [
  {
   "cell_type": "code",
   "execution_count": 1,
   "metadata": {},
   "outputs": [],
   "source": [
    "# -*- coding: utf-8 -*-\n",
    "#\"\"\"\n",
    "#Created on Sat Aug 15 21:01:12 2020\n",
    "\n",
    "#@author: Arslaan Khalid\n",
    "#\"\"\"\n",
    "\n",
    "\n",
    "import pandas as pd\n",
    "import requests\n",
    "import json\n",
    "from datetime import datetime\n",
    "from collections import OrderedDict\n",
    "import matplotlib.pyplot as plt\n",
    "\n",
    "\n",
    "# =============================================================================\n",
    "# \n",
    "# =============================================================================\n",
    "    "
   ]
  },
  {
   "cell_type": "code",
   "execution_count": 2,
   "metadata": {},
   "outputs": [],
   "source": [
    "\n",
    "def Get_NOAA_Water_Levels(gage, start, end, datum, time_zone, units):\n",
    "    #--NOAA API 'https://api.tidesandcurrents.noaa.gov/api/prod/datagetter'    \n",
    "    fmt       = \"json\"                            #Format #@ json\n",
    "    url       = 'https://api.tidesandcurrents.noaa.gov/api/prod/datagetter'\n",
    "    product   = 'hourly_height'                     #Product\n",
    "    \n",
    "    noaa_time_step = '60' + 'Min' # 6,10,30,60\n",
    "  \n",
    "    noaa = pd.DataFrame()\n",
    "    gages = dict()\n",
    "    \n",
    "    t0     = start.strftime('%Y%m%d %H:%M')\n",
    "    t1     = stop.strftime('%Y%m%d %H:%M')\n",
    "    api_params = {'begin_date': t0, 'end_date': t1,\n",
    "                'station': gage,'product':product,'datum':datum,'interval':'h',\n",
    "                'units':units,'time_zone':time_zone,\n",
    "                'application':'George_Mason_University','format':fmt }\n",
    "    #--- getting the data\n",
    "    r = requests.get(url, params = api_params)\n",
    "    jdata =r.json()\n",
    "    if 'error' in jdata.keys(): \n",
    "        print(jdata['error'],'\\n!!!Fix the parameters based on above shown error message!!!')\n",
    "    else:\n",
    "        #---- adding data to list\n",
    "        pred=[];t=[]  \n",
    "        for j in jdata['data']:t.append(str(j['t']));pred.append(str(j['v']))  \n",
    "        \n",
    "        colname = str(gage)    \n",
    "        noaa[colname]= pred\n",
    "        noaa[colname] = noaa[colname].astype(float)\n",
    "          \n",
    "        idx = pd.date_range(start,periods = len(noaa.index), freq=noaa_time_step)   \n",
    "        noaa = noaa.set_index(idx)  \n",
    "        print('NOAA data successful reterived for stn: ' , gage) \n",
    "        return noaa\n"
   ]
  },
  {
   "cell_type": "code",
   "execution_count": 3,
   "metadata": {},
   "outputs": [
    {
     "name": "stdout",
     "output_type": "stream",
     "text": [
      "NOAA data successful reterived for stn:  9447130\n"
     ]
    }
   ],
   "source": [
    "\n",
    "# Start date (year, month, day)\n",
    "#y0, m0 ,d0, h0 = 2017, 2, 6  ,0        \n",
    "#y1, m1 ,d1, h1 = 2017, 2, 22 ,0  \n",
    "\n",
    "y0, m0, d0, h0 = 2024, 3, 21,  0\n",
    "y1, m1, d1, h1 = 2024, 3, 30,  0\n",
    "# Create Datetime Objects\n",
    "start     = datetime(y0, m0, d0, h0)    \n",
    "stop      = datetime(y1, m1 ,d1, h1)  \n",
    "\n",
    "#noaa_vals = Get_NOAA_Water_Levels('8594900',start,stop,'NAVD','gmt','metric')\n",
    "noaa_vals = Get_NOAA_Water_Levels('9447130',start,stop,'NAVD','gmt','metric')   "
   ]
  },
  {
   "cell_type": "code",
   "execution_count": 4,
   "metadata": {},
   "outputs": [
    {
     "data": {
      "text/html": [
       "<div>\n",
       "<style scoped>\n",
       "    .dataframe tbody tr th:only-of-type {\n",
       "        vertical-align: middle;\n",
       "    }\n",
       "\n",
       "    .dataframe tbody tr th {\n",
       "        vertical-align: top;\n",
       "    }\n",
       "\n",
       "    .dataframe thead th {\n",
       "        text-align: right;\n",
       "    }\n",
       "</style>\n",
       "<table border=\"1\" class=\"dataframe\">\n",
       "  <thead>\n",
       "    <tr style=\"text-align: right;\">\n",
       "      <th></th>\n",
       "      <th>9447130</th>\n",
       "    </tr>\n",
       "  </thead>\n",
       "  <tbody>\n",
       "    <tr>\n",
       "      <th>2024-03-21 00:00:00</th>\n",
       "      <td>1.379</td>\n",
       "    </tr>\n",
       "    <tr>\n",
       "      <th>2024-03-21 01:00:00</th>\n",
       "      <td>0.879</td>\n",
       "    </tr>\n",
       "    <tr>\n",
       "      <th>2024-03-21 02:00:00</th>\n",
       "      <td>0.327</td>\n",
       "    </tr>\n",
       "    <tr>\n",
       "      <th>2024-03-21 03:00:00</th>\n",
       "      <td>-0.148</td>\n",
       "    </tr>\n",
       "    <tr>\n",
       "      <th>2024-03-21 04:00:00</th>\n",
       "      <td>-0.367</td>\n",
       "    </tr>\n",
       "    <tr>\n",
       "      <th>...</th>\n",
       "      <td>...</td>\n",
       "    </tr>\n",
       "    <tr>\n",
       "      <th>2024-03-29 20:00:00</th>\n",
       "      <td>-0.185</td>\n",
       "    </tr>\n",
       "    <tr>\n",
       "      <th>2024-03-29 21:00:00</th>\n",
       "      <td>-0.430</td>\n",
       "    </tr>\n",
       "    <tr>\n",
       "      <th>2024-03-29 22:00:00</th>\n",
       "      <td>-0.335</td>\n",
       "    </tr>\n",
       "    <tr>\n",
       "      <th>2024-03-29 23:00:00</th>\n",
       "      <td>0.056</td>\n",
       "    </tr>\n",
       "    <tr>\n",
       "      <th>2024-03-30 00:00:00</th>\n",
       "      <td>0.635</td>\n",
       "    </tr>\n",
       "  </tbody>\n",
       "</table>\n",
       "<p>217 rows × 1 columns</p>\n",
       "</div>"
      ],
      "text/plain": [
       "                     9447130\n",
       "2024-03-21 00:00:00    1.379\n",
       "2024-03-21 01:00:00    0.879\n",
       "2024-03-21 02:00:00    0.327\n",
       "2024-03-21 03:00:00   -0.148\n",
       "2024-03-21 04:00:00   -0.367\n",
       "...                      ...\n",
       "2024-03-29 20:00:00   -0.185\n",
       "2024-03-29 21:00:00   -0.430\n",
       "2024-03-29 22:00:00   -0.335\n",
       "2024-03-29 23:00:00    0.056\n",
       "2024-03-30 00:00:00    0.635\n",
       "\n",
       "[217 rows x 1 columns]"
      ]
     },
     "execution_count": 4,
     "metadata": {},
     "output_type": "execute_result"
    }
   ],
   "source": [
    "noaa_vals"
   ]
  },
  {
   "cell_type": "code",
   "execution_count": 5,
   "metadata": {},
   "outputs": [],
   "source": [
    "#df=noaa_vals[\"9447130\"]\n",
    "#print(v1)\n",
    "#arr = df.to_numpy()"
   ]
  },
  {
   "cell_type": "code",
   "execution_count": 6,
   "metadata": {},
   "outputs": [],
   "source": [
    "import pandas as pd\n",
    "df11=pd.DataFrame()\n",
    "df11=noaa_vals\n",
    "df11.to_csv('outfile_noaa_boston.csv')"
   ]
  },
  {
   "cell_type": "code",
   "execution_count": 7,
   "metadata": {},
   "outputs": [],
   "source": [
    "#print(df.split())\n",
    "#df = pd.DataFrame()\n",
    "#df['date']=pd.date_range(start='20150101',end='20150131',freq='H').strftime('%Y%m%d%H')\n",
    "\n",
    "#df['date'] = pd.date_range(start='1/1/2015', end='1/31/2015', periods=1, freq='H')\n",
    "#print(df)\n",
    "#print(df)"
   ]
  },
  {
   "cell_type": "code",
   "execution_count": 8,
   "metadata": {},
   "outputs": [
    {
     "ename": "NameError",
     "evalue": "name 'arr' is not defined",
     "output_type": "error",
     "traceback": [
      "\u001b[0;31m---------------------------------------------------------------------------\u001b[0m",
      "\u001b[0;31mNameError\u001b[0m                                 Traceback (most recent call last)",
      "Cell \u001b[0;32mIn[8], line 1\u001b[0m\n\u001b[0;32m----> 1\u001b[0m \u001b[38;5;28mprint\u001b[39m(\u001b[43marr\u001b[49m[:,\u001b[38;5;241m0\u001b[39m])\n",
      "\u001b[0;31mNameError\u001b[0m: name 'arr' is not defined"
     ]
    }
   ],
   "source": [
    "print(arr[:,0])"
   ]
  }
 ],
 "metadata": {
  "kernelspec": {
   "display_name": "Python 3",
   "language": "python",
   "name": "python3"
  },
  "language_info": {
   "codemirror_mode": {
    "name": "ipython",
    "version": 3
   },
   "file_extension": ".py",
   "mimetype": "text/x-python",
   "name": "python",
   "nbconvert_exporter": "python",
   "pygments_lexer": "ipython3",
   "version": "3.10.12"
  }
 },
 "nbformat": 4,
 "nbformat_minor": 2
}
