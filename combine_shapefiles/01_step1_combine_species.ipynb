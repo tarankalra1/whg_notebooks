{
 "cells": [
  {
   "cell_type": "code",
   "execution_count": 1,
   "metadata": {},
   "outputs": [],
   "source": [
    "\n",
    "# combine classes of veg species \n",
    "import numpy as np\n",
    "import matplotlib.pyplot as plt\n",
    "import glob\n",
    "import os\n",
    "import pandas as pd \n",
    "import geopandas as gpd "
   ]
  },
  {
   "cell_type": "code",
   "execution_count": 2,
   "metadata": {},
   "outputs": [
    {
     "data": {
      "text/plain": [
       "'c:\\\\Users\\\\tkalra\\\\Desktop\\\\Pleasant_River_ME\\\\Grid\\\\WBPR_vegetation\\\\veg_new2'"
      ]
     },
     "execution_count": 2,
     "metadata": {},
     "output_type": "execute_result"
    }
   ],
   "source": [
    "pwd"
   ]
  },
  {
   "cell_type": "code",
   "execution_count": 3,
   "metadata": {},
   "outputs": [
    {
     "name": "stdout",
     "output_type": "stream",
     "text": [
      "C:\\Users\\tkalra\\Desktop\\Pleasant_River_ME\\Grid\\WBPR_vegetation\\veg_new2.shp\n"
     ]
    }
   ],
   "source": [
    " \n",
    "output_directory = r'C:\\Users\\tkalra\\Desktop\\Pleasant_River_ME\\Grid\\WBPR_vegetation\\veg_new2.shp'\n",
    "outfile = f'{output_directory}'\n",
    "print(outfile)"
   ]
  },
  {
   "cell_type": "code",
   "execution_count": 4,
   "metadata": {},
   "outputs": [],
   "source": [
    "outfile = 'veg_new2.shp'\n",
    "# Load shapefile\n",
    "gdf = gpd.read_file(outfile)\n",
    "#gdf['Graminoid'] = gdf[['Mixed graminoid', 'Graminoid']].apply(lambda x: ', '.join(x.astype(str)), axis=1)\n"
   ]
  },
  {
   "cell_type": "code",
   "execution_count": 5,
   "metadata": {},
   "outputs": [
    {
     "data": {
      "text/plain": [
       "<bound method NDFrame.head of      Id             Veg_Cover  \\\n",
       "0     0            Herbaceous   \n",
       "1     0      Mixed herbaceous   \n",
       "2     0            Herbaceous   \n",
       "3     0      Mixed tall shrub   \n",
       "4     0            Tall shrub   \n",
       "..   ..                   ...   \n",
       "381   0       Mixed low shrub   \n",
       "382   0       Mixed low shrub   \n",
       "383   0      Mixed tall shrub   \n",
       "384   0       Mixed graminoid   \n",
       "385   0  Graminoid salt marsh   \n",
       "\n",
       "                                               Species    Area_sq_m  \\\n",
       "0                                      Typha latifolia  5380.137550   \n",
       "1     Juncus effusus, Alnus serrulata, Typha latifolia  3030.139501   \n",
       "2                                   Typha angustifolia  5971.049129   \n",
       "3                  Alnus serrulata, Typha angustifolia  1420.133419   \n",
       "4       Alnus serrulata, Spirea latifolia, Myrica gale  9573.724647   \n",
       "..                                                 ...          ...   \n",
       "381                        Spirea latifolia, Aster sp.    49.285868   \n",
       "382                        Spirea latifolia, Aster sp.    51.480711   \n",
       "383                  Alnus serrulata, Spirea latifolia   846.465794   \n",
       "384  Calamagrostis canadensis, Aster sp., Solidago sp.   420.623121   \n",
       "385  Spartina patens, Spartina alterniflora, Distic...   355.031483   \n",
       "\n",
       "     Area_Acres Cowardin Changes  \\\n",
       "0      1.329461     PEM1    None   \n",
       "1      0.748764     PEM1    None   \n",
       "2      1.475479     PEM1    None   \n",
       "3      0.350923     PSS1    None   \n",
       "4      2.365719     PSS1    None   \n",
       "..          ...      ...     ...   \n",
       "381    0.012179     PSS1    None   \n",
       "382    0.012721     PSS1    None   \n",
       "383    0.209166     PSS1    None   \n",
       "384    0.103938     PEM1    None   \n",
       "385    0.087730    E2EM1    None   \n",
       "\n",
       "                                              geometry  \n",
       "0    POLYGON ((599296.482 4941302.817, 599296.482 4...  \n",
       "1    POLYGON ((599296.807 4941253.288, 599297.702 4...  \n",
       "2    POLYGON ((599194.266 4941157.337, 599197.134 4...  \n",
       "3    POLYGON ((599184.859 4941127.154, 599186.016 4...  \n",
       "4    POLYGON ((598986.849 4941095.264, 598987.747 4...  \n",
       "..                                                 ...  \n",
       "381  POLYGON ((599086.991 4940956.987, 599088.919 4...  \n",
       "382  POLYGON ((599101.417 4940950.458, 599101.537 4...  \n",
       "383  POLYGON ((599100.545 4940977.77, 599100.821 49...  \n",
       "384  POLYGON ((599090.297 4940962.938, 599094.059 4...  \n",
       "385  POLYGON ((599163.217 4941062.363, 599163.396 4...  \n",
       "\n",
       "[386 rows x 8 columns]>"
      ]
     },
     "execution_count": 5,
     "metadata": {},
     "output_type": "execute_result"
    }
   ],
   "source": [
    "gdf.head"
   ]
  },
  {
   "cell_type": "code",
   "execution_count": 6,
   "metadata": {},
   "outputs": [],
   "source": [
    "gdf.columns = gdf.columns.str.strip()\n"
   ]
  },
  {
   "cell_type": "code",
   "execution_count": 7,
   "metadata": {},
   "outputs": [
    {
     "name": "stdout",
     "output_type": "stream",
     "text": [
      "Index(['Id', 'Veg_Cover', 'Species', 'Area_sq_m', 'Area_Acres', 'Cowardin',\n",
      "       'Changes', 'geometry'],\n",
      "      dtype='object')\n"
     ]
    }
   ],
   "source": [
    "print(gdf.columns)"
   ]
  },
  {
   "cell_type": "code",
   "execution_count": 8,
   "metadata": {},
   "outputs": [],
   "source": [
    "# Combine city_name and state attributes\n",
    "#gdf['low_shrub'] = gdf.apply(lambda row: f\"{row['Herbaceous']}, {row['Graminoid salt marsh']}\", axis=1)\n",
    "\n",
    "attribute1 = 'Herbaceous'\n",
    "attribute2 = 'Graminoid salt marsh'\n",
    "attribute3 = 'Mixed low shrub'\n",
    "attribute4 = 'Mixed graminoid'\n",
    "attribute5 = 'Forest (Dead)'\n",
    "attribute6 = 'Mixed herbaceous'\n",
    "attribute7 = 'Low shrub'\n",
    "attribute8 = 'Graminoid'\n",
    "attribute9 = 'Mixed graminoid'\n",
    "\n",
    "#gdf['combined_attribute'] = gdf.apply(lambda row: f\"{row[attribute1]} {row[attribute2]}\", axis=1)\n",
    "gdf['Veg_Cover'] = gdf['Veg_Cover'].replace([attribute1, attribute2, attribute3, attribute4, attribute5, attribute6, attribute7, attribute8, attribute9], 'shrub')\n"
   ]
  },
  {
   "cell_type": "code",
   "execution_count": 9,
   "metadata": {},
   "outputs": [],
   "source": [
    "\n",
    "attribute1 = 'Coniferous forest'\n",
    "attribute2 = 'Deciduous forest'\n",
    "attribute3 = 'Mixed deciduous forest'\n",
    "attribute4 = 'Mixed coniferous forest'\n",
    "attribute5 = 'Tall shrub'\n",
    "attribute6 = 'Mixed tall shrub'\n",
    "attribute7 = 'Sapling coniferous forest'\n",
    "#gdf['combined_attribute'] = gdf.apply(lambda row: f\"{row[attribute1]} {row[attribute2]}\", axis=1)\n",
    "gdf['Veg_Cover'] = gdf['Veg_Cover'].replace([attribute1, attribute2, attribute3, attribute4, attribute5, attribute6, attribute7], 'Forest')\n"
   ]
  },
  {
   "cell_type": "code",
   "execution_count": 10,
   "metadata": {},
   "outputs": [],
   "source": [
    "gdf.to_file('updated_shapefile2.shp')\n"
   ]
  },
  {
   "cell_type": "code",
   "execution_count": 11,
   "metadata": {},
   "outputs": [
    {
     "data": {
      "text/plain": [
       "'c:\\\\Users\\\\tkalra\\\\Desktop\\\\Pleasant_River_ME\\\\Grid\\\\WBPR_vegetation\\\\veg_new2'"
      ]
     },
     "execution_count": 11,
     "metadata": {},
     "output_type": "execute_result"
    }
   ],
   "source": [
    "pwd"
   ]
  }
 ],
 "metadata": {
  "kernelspec": {
   "display_name": "taran_check",
   "language": "python",
   "name": "python3"
  },
  "language_info": {
   "codemirror_mode": {
    "name": "ipython",
    "version": 3
   },
   "file_extension": ".py",
   "mimetype": "text/x-python",
   "name": "python",
   "nbconvert_exporter": "python",
   "pygments_lexer": "ipython3",
   "version": "3.11.5"
  }
 },
 "nbformat": 4,
 "nbformat_minor": 2
}
