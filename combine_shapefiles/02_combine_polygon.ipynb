{
 "cells": [
  {
   "cell_type": "code",
   "execution_count": 1,
   "metadata": {},
   "outputs": [],
   "source": [
    "\n",
    "# Merge polygons that have same veg species \n",
    "import numpy as np\n",
    "import matplotlib.pyplot as plt\n",
    "import glob\n",
    "import os\n",
    "import pandas as pd \n",
    "import geopandas as gpd "
   ]
  },
  {
   "cell_type": "code",
   "execution_count": 2,
   "metadata": {},
   "outputs": [
    {
     "data": {
      "text/plain": [
       "'c:\\\\Users\\\\tkalra\\\\Desktop\\\\Pleasant_River_ME\\\\Grid\\\\WBPR_vegetation\\\\veg_new2'"
      ]
     },
     "execution_count": 2,
     "metadata": {},
     "output_type": "execute_result"
    }
   ],
   "source": [
    "pwd"
   ]
  },
  {
   "cell_type": "code",
   "execution_count": 3,
   "metadata": {},
   "outputs": [
    {
     "name": "stdout",
     "output_type": "stream",
     "text": [
      "C:\\Users\\tkalra\\Desktop\\Pleasant_River_ME\\Grid\\WBPR_vegetation\\veg_new2.shp\n"
     ]
    }
   ],
   "source": [
    " \n",
    "output_directory = r'C:\\Users\\tkalra\\Desktop\\Pleasant_River_ME\\Grid\\WBPR_vegetation\\veg_new2.shp'\n",
    "outfile = f'{output_directory}'\n",
    "print(outfile)"
   ]
  },
  {
   "cell_type": "code",
   "execution_count": 4,
   "metadata": {},
   "outputs": [],
   "source": [
    "outfile = 'updated_shapefile2.shp'\n",
    "# Load shapefile\n",
    "gdf = gpd.read_file(outfile)\n",
    "#gdf['Graminoid'] = gdf[['Mixed graminoid', 'Graminoid']].apply(lambda x: ', '.join(x.astype(str)), axis=1)\n"
   ]
  },
  {
   "cell_type": "code",
   "execution_count": 5,
   "metadata": {},
   "outputs": [
    {
     "data": {
      "text/plain": [
       "<bound method NDFrame.head of      Id Veg_Cover                                            Species  \\\n",
       "0     0     shrub                                    Typha latifolia   \n",
       "1     0     shrub   Juncus effusus, Alnus serrulata, Typha latifolia   \n",
       "2     0     shrub                                 Typha angustifolia   \n",
       "3     0    Forest                Alnus serrulata, Typha angustifolia   \n",
       "4     0    Forest     Alnus serrulata, Spirea latifolia, Myrica gale   \n",
       "..   ..       ...                                                ...   \n",
       "381   0     shrub                        Spirea latifolia, Aster sp.   \n",
       "382   0     shrub                        Spirea latifolia, Aster sp.   \n",
       "383   0    Forest                  Alnus serrulata, Spirea latifolia   \n",
       "384   0     shrub  Calamagrostis canadensis, Aster sp., Solidago sp.   \n",
       "385   0     shrub  Spartina patens, Spartina alterniflora, Distic...   \n",
       "\n",
       "       Area_sq_m  Area_Acres Cowardin Changes  \\\n",
       "0    5380.137550    1.329461     PEM1    None   \n",
       "1    3030.139501    0.748764     PEM1    None   \n",
       "2    5971.049129    1.475479     PEM1    None   \n",
       "3    1420.133419    0.350923     PSS1    None   \n",
       "4    9573.724647    2.365719     PSS1    None   \n",
       "..           ...         ...      ...     ...   \n",
       "381    49.285868    0.012179     PSS1    None   \n",
       "382    51.480711    0.012721     PSS1    None   \n",
       "383   846.465794    0.209166     PSS1    None   \n",
       "384   420.623121    0.103938     PEM1    None   \n",
       "385   355.031483    0.087730    E2EM1    None   \n",
       "\n",
       "                                              geometry  \n",
       "0    POLYGON ((599296.482 4941302.817, 599296.482 4...  \n",
       "1    POLYGON ((599296.807 4941253.288, 599297.702 4...  \n",
       "2    POLYGON ((599194.266 4941157.337, 599197.134 4...  \n",
       "3    POLYGON ((599184.859 4941127.154, 599186.016 4...  \n",
       "4    POLYGON ((598986.849 4941095.264, 598987.747 4...  \n",
       "..                                                 ...  \n",
       "381  POLYGON ((599086.991 4940956.987, 599088.919 4...  \n",
       "382  POLYGON ((599101.417 4940950.458, 599101.537 4...  \n",
       "383  POLYGON ((599100.545 4940977.77, 599100.821 49...  \n",
       "384  POLYGON ((599090.297 4940962.938, 599094.059 4...  \n",
       "385  POLYGON ((599163.217 4941062.363, 599163.396 4...  \n",
       "\n",
       "[386 rows x 8 columns]>"
      ]
     },
     "execution_count": 5,
     "metadata": {},
     "output_type": "execute_result"
    }
   ],
   "source": [
    "gdf.head"
   ]
  },
  {
   "cell_type": "code",
   "execution_count": 6,
   "metadata": {},
   "outputs": [],
   "source": [
    "\n",
    "# Dissolve polygons by veg cover type\n",
    "merged_gdf = gdf.dissolve(by='Veg_Cover')\n",
    "\n",
    "# Explode multi-polygons into single polygons\n",
    "merged_gdf = merged_gdf.explode()\n"
   ]
  },
  {
   "cell_type": "code",
   "execution_count": 7,
   "metadata": {},
   "outputs": [],
   "source": [
    "merged_gdf.to_file('merged_shapefile.shp')\n"
   ]
  }
 ],
 "metadata": {
  "kernelspec": {
   "display_name": "taran_check",
   "language": "python",
   "name": "python3"
  },
  "language_info": {
   "codemirror_mode": {
    "name": "ipython",
    "version": 3
   },
   "file_extension": ".py",
   "mimetype": "text/x-python",
   "name": "python",
   "nbconvert_exporter": "python",
   "pygments_lexer": "ipython3",
   "version": "3.11.5"
  }
 },
 "nbformat": 4,
 "nbformat_minor": 2
}
