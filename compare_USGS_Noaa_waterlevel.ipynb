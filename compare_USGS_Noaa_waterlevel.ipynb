{
 "cells": [
  {
   "cell_type": "code",
   "execution_count": 1,
   "metadata": {},
   "outputs": [],
   "source": [
    "\n",
    "import pandas as pd\n",
    "import requests\n",
    "import json\n",
    "from datetime import datetime\n",
    "from collections import OrderedDict\n",
    "import matplotlib.pyplot as plt\n",
    "import numpy as np"
   ]
  },
  {
   "cell_type": "code",
   "execution_count": 2,
   "metadata": {},
   "outputs": [
    {
     "name": "stdout",
     "output_type": "stream",
     "text": [
      "Empty DataFrame\n",
      "Columns: [Unnamed: 0]\n",
      "Index: []\n"
     ]
    }
   ],
   "source": [
    "noaafile=('outfile_noaa_boston.csv')\n",
    "df_noaa=pd.read_csv(noaafile)\n",
    "print(df_noaa)\n",
    "df_noaa.columns = df_noaa.columns.str.replace('Unnamed: 0','time_noaa')\n"
   ]
  },
  {
   "cell_type": "code",
   "execution_count": 3,
   "metadata": {},
   "outputs": [],
   "source": [
    "#df_noaa=df_noaa.rename({'unnamed:0':'time_noaa'},inplace=True)\n"
   ]
  },
  {
   "cell_type": "code",
   "execution_count": 4,
   "metadata": {},
   "outputs": [
    {
     "name": "stdout",
     "output_type": "stream",
     "text": [
      "Empty DataFrame\n",
      "Columns: [time_noaa]\n",
      "Index: []\n"
     ]
    }
   ],
   "source": [
    "print(df_noaa)"
   ]
  },
  {
   "cell_type": "code",
   "execution_count": null,
   "metadata": {},
   "outputs": [],
   "source": [
    "t1_noaa=df_noaa[\"time_noaa\"]\n",
    "meter_to_feet = 3.2808399\n",
    "wl_noaa = df_noaa[\"9447130\"].values*meter_to_feet"
   ]
  },
  {
   "cell_type": "code",
   "execution_count": null,
   "metadata": {},
   "outputs": [],
   "source": [
    "#fig = plt.figure(figsize=(12, 7))\n",
    "#for i in range(0, len(t1)):\n",
    "\n",
    "#for i in range(0,len(df_noaa)):\n",
    "#    dt1=np.datetime64(t1_noaa[i])\n",
    "    #plt.plot_date(dt1, wl_noaa[i], label = 'New Charles River Dam ', color='r')\n",
    "#print(dt1)"
   ]
  },
  {
   "cell_type": "code",
   "execution_count": null,
   "metadata": {},
   "outputs": [],
   "source": [
    "\n",
    "timeDataArray_noaa = pd.to_datetime(df_noaa.time_noaa).to_numpy()\n",
    "print(timeDataArray_noaa)"
   ]
  },
  {
   "cell_type": "code",
   "execution_count": null,
   "metadata": {},
   "outputs": [],
   "source": [
    "#print pd.to_datetime(t1_noaa).values\n",
    "#fig, ax = plt.subplots(1)\n",
    "import matplotlib.dates as mdates\n",
    "\n",
    "#print(type(timeDataArray))\n",
    "#fig.autofmt_xdate()\n",
    "\n",
    "fig, ax = plt.subplots(1)\n",
    "fig.autofmt_xdate()\n",
    "#plt.plot(times, range(times.size))\n",
    "plt.plot(timeDataArray_noaa, wl_noaa, label = 'NOAA water level at Boston ', color='r')\n",
    "\n",
    "xfmt = mdates.DateFormatter('%d-%m-%y')\n",
    "ax.xaxis.set_major_formatter(xfmt)\n",
    "#plt.gcf().autofmt_xdate()"
   ]
  },
  {
   "cell_type": "code",
   "execution_count": null,
   "metadata": {},
   "outputs": [],
   "source": [
    "#import numpy as np \n",
    "#dt64_t1_noaa = np.zeros(len(t1_noaa))\n",
    "#for i in range(0, len(t1_noaa)):\n",
    "#    dt64_t1_noaa[i]=np.datetime64(t1_noaa[i])"
   ]
  },
  {
   "cell_type": "code",
   "execution_count": null,
   "metadata": {},
   "outputs": [],
   "source": [
    "#dt = datetime.datetime(2024, 3, 31)\n",
    "# A strange way to extract a Timestamp object, there's surely a better way?\n",
    "#ts = pd.DatetimeIndex([dt])[0]\n",
    "#dt64 = np.datetime64(dt)\n",
    "#print(dt64)"
   ]
  },
  {
   "cell_type": "code",
   "execution_count": null,
   "metadata": {},
   "outputs": [],
   "source": [
    "#xx=(pd.DatetimeIndex([t1_noaa])[0])\n",
    "#print(type(xx))\n",
    "#dt1=np.zeros(10)\n",
    "#for i in range(0,10):\n",
    "#    dt1=np.datetime64(t1_noaa[i])\n",
    "#    print(type(dt1))\n",
    "#    print(dt1)"
   ]
  },
  {
   "cell_type": "code",
   "execution_count": null,
   "metadata": {},
   "outputs": [],
   "source": [
    "#dt1=np.datetime64(t1_noaa)\n"
   ]
  },
  {
   "cell_type": "code",
   "execution_count": null,
   "metadata": {},
   "outputs": [],
   "source": [
    "wl1=('/home/tarandeepk/Desktop/Broad_canal/data_retrieve_USGS/outfile_nwis_site1_01104715.csv')\n",
    "df1_usgs=pd.read_csv(wl1)\n",
    "wl2=('/home/tarandeepk/Desktop/Broad_canal/data_retrieve_USGS/outfile_nwis_site2_01104705.csv')\n",
    "df2_usgs=pd.read_csv(wl2)\n",
    "\n",
    "timeDataArray_df1_usgs = pd.to_datetime(df1_usgs.datetime).to_numpy()\n",
    "timeDataArray_df2_usgs = pd.to_datetime(df2_usgs.datetime).to_numpy()"
   ]
  },
  {
   "cell_type": "code",
   "execution_count": null,
   "metadata": {},
   "outputs": [],
   "source": [
    "t1=df1_usgs[\"datetime\"] \n",
    "t2=df2_usgs[\"datetime\"]\n",
    "wl1_4715_v1929=df1_usgs[\"00065\"].values # New Charles River Dam, Datum 1929, 01104715\n",
    "wl2_4705_v1988=df2_usgs[\"00065\"].values # First St. Cambridge, MA 00110405\n",
    "\n",
    "#wl1_4715_v1929 = wl1_4715_v1929-105.62+3.5 \n",
    "#wl2_4705_v1988 = wl2_4705_v1988-106.68\n",
    "\n",
    "\n",
    "wl1_4715_v1929 = wl1_4715_v1929-106.42 \n",
    "wl2_4705_v1988 = wl2_4705_v1988-106."
   ]
  },
  {
   "cell_type": "code",
   "execution_count": null,
   "metadata": {},
   "outputs": [],
   "source": [
    "#fig, ax = plt.subplots(1)\n",
    "fig= plt.figure(figsize=(15, 7))\n",
    "\n",
    "fig.autofmt_xdate()\n",
    "plt.plot(timeDataArray_noaa, wl_noaa, label = 'NOAA water station in Boston ', color='r')\n",
    "plt.plot(timeDataArray_df1_usgs, wl1_4715_v1929, label=\"New Charles River Dam, 01104715\", color='b')\n",
    "plt.plot(timeDataArray_df2_usgs, wl2_4705_v1988, label=\" First St. Cambridge,001104705\", color='g')\n",
    "plt.grid()\n",
    "plt.legend()\n",
    "xfmt = mdates.DateFormatter('%d-%m-%y')\n",
    "ax.xaxis.set_major_formatter(xfmt)\n",
    "plt.savefig(\"stations_waterlevel_NOAA_USGS.png\")\n",
    "#plt.gcf().autofmt_xdate()"
   ]
  },
  {
   "cell_type": "code",
   "execution_count": null,
   "metadata": {},
   "outputs": [],
   "source": [
    "\"\""
   ]
  }
 ],
 "metadata": {
  "kernelspec": {
   "display_name": "Python 3",
   "language": "python",
   "name": "python3"
  },
  "language_info": {
   "codemirror_mode": {
    "name": "ipython",
    "version": 3
   },
   "file_extension": ".py",
   "mimetype": "text/x-python",
   "name": "python",
   "nbconvert_exporter": "python",
   "pygments_lexer": "ipython3",
   "version": "3.10.12"
  }
 },
 "nbformat": 4,
 "nbformat_minor": 2
}
